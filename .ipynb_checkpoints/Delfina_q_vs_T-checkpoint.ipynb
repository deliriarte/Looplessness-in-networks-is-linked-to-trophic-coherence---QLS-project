{
 "cells": [
  {
   "cell_type": "code",
   "execution_count": 1,
   "metadata": {},
   "outputs": [],
   "source": [
    "import pandas as pd\n",
    "import seaborn as sns\n",
    "import numpy as np\n",
    "import networkx as nx\n",
    "import matplotlib.pyplot as plt\n",
    "from numpy import linalg as LA\n",
    "import seaborn as sns\n",
    "import random as random\n",
    "import math\n",
    "\n",
    "from sklearn.linear_model import Perceptron\n",
    "import matplotlib.patches as mpatches\n",
    "from scipy.optimize import curve_fit"
   ]
  },
  {
   "cell_type": "code",
   "execution_count": 2,
   "metadata": {},
   "outputs": [],
   "source": [
    "from dask.distributed import Client\n",
    "client = Client() ##change your settings"
   ]
  },
  {
   "cell_type": "code",
   "execution_count": 3,
   "metadata": {},
   "outputs": [],
   "source": [
    "def gen_ppm(args):\n",
    "    N=args[0]\n",
    "    B=args[1]\n",
    "    avg_k=args[2]\n",
    "    T=args[3]\n",
    "    \n",
    "    #def gen_ppm(N, L, B):\n",
    "    #N = 1000\n",
    "    L = avg_k*N #5000\n",
    "    #B=200\n",
    "    #s = [1]*B + [0]*(N-B)\n",
    "\n",
    "    D = nx.DiGraph()\n",
    "    D.add_nodes_from(range(B))\n",
    "\n",
    "    #introduce all the N-B nodes into the graph, attach them randomly to the nodes already present\n",
    "\n",
    "    for i in range(B,N):\n",
    "        #choose the node randomly from the current graph\n",
    "        j = random.choice(list(D.nodes))\n",
    "        D.add_node(i)\n",
    "        D.add_edge(j,i)\n",
    "        #s[i]=s[j]+1 #update the s values\n",
    "       # if j in range(B): #if j belongs to basal nodes \n",
    "       #     s[i] = s[j]+1\n",
    "       # else:\n",
    "       #     s[i] = 1 + \n",
    "\n",
    "    # place the remaining (L-N+B) edges, according to gaussian probability\n",
    "\n",
    "    # make a list of all possible edges possible except basal nodes predating on others\n",
    "    all_edges = []\n",
    "\n",
    "    #from non-basal node to another non basal node\n",
    "    for i in range(B,N):\n",
    "        for j in range(B,N):\n",
    "            if i==j: #no self loops\n",
    "                pass\n",
    "            else:\n",
    "                all_edges.append((i,j))\n",
    "\n",
    "    #from basal node to non basal node\n",
    "    for i in range(B):\n",
    "        for j in range(B,N):\n",
    "            all_edges.append((i,j)) #i--->j\n",
    "    #T=1 # fix temperature. It is related to q\n",
    "        \n",
    "    #edge_count = 0\n",
    "    while D.number_of_edges()!= int(L):\n",
    "    #while edge_count!= int(L-N+B):\n",
    "    \n",
    "        s = nx.trophic_levels(D) #recompute s values after the edge was added in previous iteration\n",
    "\n",
    "        # compute normalization factor\n",
    "        #norm_factor = 0\n",
    "        #for index, tup in enumerate(all_edges):\n",
    "        #    i = tup[0]\n",
    "        #    j = tup[1]\n",
    "        #    x_ij = s[i]-s[j]\n",
    "        #    norm_factor += np.exp( -((x_ij-1)**2)/(2*T**2) )\n",
    "\n",
    "        #choose a random edge uniformly from all edges\n",
    "        i,j = random.choice(all_edges)\n",
    "\n",
    "        #i,j = ij[0],ij[1]\n",
    "        #s = nx.trophic_levels(D) #recompute s values after the edge was added in previous iteration\n",
    "        # j is always the non basal node, i can be basal as well as non basal node\n",
    "        x_ji = s[j]-s[i] # subtract always non basal and basal, not the other way around. \n",
    "\n",
    "        #probability of connection from i to j\n",
    "        P_ij = np.exp( -((x_ji-1)**2)/(2*T**2) )#/norm_factor\n",
    "        if random.random() < P_ij:\n",
    "            D.add_edge(i,j)\n",
    "            # if the edge gets added to the graph, \n",
    "            #then remove the edge from the all edges list to avoid having multiple parallel edges\n",
    "            all_edges.remove((i,j)) \n",
    "            #edge_count+=1\n",
    "            #print(edge_count)\n",
    "            #print(D.number_of_edges())\n",
    "    return nx.trophic_incoherence_parameter(D)\n",
    "\n",
    "    \n",
    "        "
   ]
  },
  {
   "cell_type": "code",
   "execution_count": 4,
   "metadata": {},
   "outputs": [
    {
     "name": "stdout",
     "output_type": "stream",
     "text": [
      "Wall time: 25 ms\n"
     ]
    }
   ],
   "source": [
    "%%time\n",
    "B=10\n",
    "T=np.linspace(0.01,5,30)\n",
    "N=1000\n",
    "avg_k = 5\n",
    "\n",
    "q_B10 = []\n",
    "\n",
    "future10 = client.map(gen_ppm, [(N, B, avg_k, temp) for temp in T])\n",
    "\n"
   ]
  },
  {
   "cell_type": "code",
   "execution_count": null,
   "metadata": {},
   "outputs": [],
   "source": [
    "%%time\n",
    "q_B10 = client.gather(future10)\n"
   ]
  },
  {
   "cell_type": "code",
   "execution_count": null,
   "metadata": {},
   "outputs": [],
   "source": []
  },
  {
   "cell_type": "code",
   "execution_count": null,
   "metadata": {},
   "outputs": [],
   "source": []
  },
  {
   "cell_type": "code",
   "execution_count": null,
   "metadata": {},
   "outputs": [],
   "source": []
  },
  {
   "cell_type": "code",
   "execution_count": null,
   "metadata": {},
   "outputs": [],
   "source": []
  },
  {
   "cell_type": "code",
   "execution_count": null,
   "metadata": {},
   "outputs": [],
   "source": []
  }
 ],
 "metadata": {
  "kernelspec": {
   "display_name": "Python 3",
   "language": "python",
   "name": "python3"
  },
  "language_info": {
   "codemirror_mode": {
    "name": "ipython",
    "version": 3
   },
   "file_extension": ".py",
   "mimetype": "text/x-python",
   "name": "python",
   "nbconvert_exporter": "python",
   "pygments_lexer": "ipython3",
   "version": "3.7.9"
  }
 },
 "nbformat": 4,
 "nbformat_minor": 4
}
