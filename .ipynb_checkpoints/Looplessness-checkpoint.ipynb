{
 "cells": [
  {
   "cell_type": "code",
   "execution_count": 1,
   "id": "separate-contract",
   "metadata": {},
   "outputs": [],
   "source": [
    "import pandas as pd\n",
    "import seaborn as sns\n",
    "import numpy as np\n",
    "import networkx as nx\n",
    "import matplotlib.pyplot as plt\n",
    "from numpy import linalg as LA"
   ]
  },
  {
   "cell_type": "markdown",
   "id": "divided-andrews",
   "metadata": {},
   "source": [
    "# Food web dataset\n",
    "## Coweeta 1\n",
    "\n",
    "##### https://iwdb.nceas.ucsb.edu/html/thomps_towns.html"
   ]
  },
  {
   "cell_type": "code",
   "execution_count": 158,
   "id": "choice-badge",
   "metadata": {},
   "outputs": [],
   "source": [
    "##read the adjacency matrix\n",
    "coweeta_adjacency = pd.read_excel('Dataset/Coweeta1.xls',index_col=0)"
   ]
  },
  {
   "cell_type": "code",
   "execution_count": 184,
   "id": "successful-taste",
   "metadata": {},
   "outputs": [
    {
     "name": "stdout",
     "output_type": "stream",
     "text": [
      "20\n"
     ]
    }
   ],
   "source": [
    "count = 0\n",
    "for i in range(len(coweeta_adjacency)):\n",
    "    if (all(coweeta_adjacency.iloc[i,:].values == 0)):\n",
    "        count +=1\n",
    "        \n",
    "print(count)"
   ]
  },
  {
   "cell_type": "code",
   "execution_count": 3,
   "id": "nutritional-speech",
   "metadata": {},
   "outputs": [],
   "source": [
    "#The names of the col and index the same (there are some sutil stuffs)\n",
    "coweeta_adjacency.index = coweeta_adjacency.columns ##the names are the same"
   ]
  },
  {
   "cell_type": "code",
   "execution_count": 4,
   "id": "iraqi-progressive",
   "metadata": {},
   "outputs": [],
   "source": [
    "#convert to graph\n",
    "G_coweeta = nx.convert_matrix.from_pandas_adjacency(coweeta_adjacency,create_using=nx.DiGraph)"
   ]
  },
  {
   "cell_type": "code",
   "execution_count": 5,
   "id": "minor-explosion",
   "metadata": {},
   "outputs": [],
   "source": [
    "##tau -- loop exponent\n",
    "def tau(alpha, qtilde, q):\n",
    "    return np.log(alpha) + 1/(2*qtilde**2) -1/(2*q**2)"
   ]
  },
  {
   "cell_type": "code",
   "execution_count": 6,
   "id": "distant-kenya",
   "metadata": {},
   "outputs": [],
   "source": [
    "def get_leading_eigenvalue(adj_matrix, leading_lambda):\n",
    "    w, v = LA.eig(adj_matrix)\n",
    "    lamd_i = max(w)\n",
    "    lamd_i = lamd_i.real\n",
    "    leading_lambda.append(lamd_i)"
   ]
  },
  {
   "cell_type": "code",
   "execution_count": 7,
   "id": "medical-implementation",
   "metadata": {},
   "outputs": [],
   "source": [
    "lamda_i_val = []"
   ]
  },
  {
   "cell_type": "code",
   "execution_count": 8,
   "id": "theoretical-employer",
   "metadata": {},
   "outputs": [],
   "source": [
    "get_leading_eigenvalue(coweeta_adjacency, lamda_i_val)"
   ]
  },
  {
   "cell_type": "code",
   "execution_count": 9,
   "id": "exempt-shell",
   "metadata": {},
   "outputs": [],
   "source": [
    "def get_main_properties(G, q1, q_qt1, alpha1, tau1):\n",
    "    \n",
    "    #number of nodes\n",
    "    N = G.number_of_nodes()\n",
    "    print(\"Number of nodes N:\", N)\n",
    "    \n",
    "    #number of edges\n",
    "    L = G.number_of_edges()\n",
    "    print(\"Number of edges L:\", L)\n",
    "    \n",
    "    #Get the basal nodes (in degree = 0 )\n",
    "    in_degree = list(G.in_degree())\n",
    "    out_degree = list(G.out_degree())\n",
    "    \n",
    "    #number of basal nodes\n",
    "    B = 0\n",
    "    \n",
    "    #number of basal edges\n",
    "    basal_edges = []\n",
    "    for i in range(len(in_degree)):\n",
    "        if in_degree[i][1] == 0:\n",
    "            B += 1\n",
    "            basal_edges.append(out_degree[i][1])\n",
    "            \n",
    "    print(\"Number of basal nodes B:\", B) ##same as the paper\n",
    "    \n",
    "    #L_b\n",
    "    L_b = sum(basal_edges)\n",
    "    print(\"Number of basal edges L_B:\", L_b) ##same as the paper\n",
    "    \n",
    "    #average degree\n",
    "    k = sum(d for n, d in G.in_degree()) / float(N)\n",
    "    print(\"Average in degree: %8.4f\\n\" % k)\n",
    "    \n",
    "    #Compute tropich levels\n",
    "    trophic_levels = nx.algorithms.centrality.trophic_levels(G)\n",
    "    trophic_levels = [(k, v) for k, v in trophic_levels.items()] \n",
    "    s = []\n",
    "    for i in range(len(trophic_levels)):\n",
    "        s.append(trophic_levels[i][1])\n",
    "    \n",
    "    x = np.zeros([len(s), len(s)])\n",
    "\n",
    "    #trophic difference\n",
    "    for i in range (len(s)):\n",
    "        for j in range (len(s)):\n",
    "            x[i, j] = s[i]-s[j]\n",
    "            \n",
    "    #trophic incoherence parameter \n",
    "    q = nx.trophic_incoherence_parameter(G)\n",
    "    q_tilde = np.sqrt( L / L_b -1)\n",
    "    \n",
    "    print(\"Trophic incoherence parameter q: \", q)\n",
    "    #quotient\n",
    "    q_qt = q/q_tilde\n",
    "    \n",
    "    print(\"Quotient q/q_tilde = \", q_qt)\n",
    "    \n",
    "    q1.append(q)\n",
    "    q_qt1.append(q_qt)\n",
    "    \n",
    "    s_tilde = 1 + (1- B/N)*(L/L_b)\n",
    "    s_st = np.mean(s)/s_tilde\n",
    "    \n",
    "    print(\"Quotient s/s_tilde = \", s_st)\n",
    "\n",
    "    out = dict(G.out_degree())\n",
    "    inn = dict(G.in_degree())\n",
    "    out = list(out.values())\n",
    "    inn = list(inn.values())\n",
    "    \n",
    "    #compute alpha\n",
    "    kinkout =0\n",
    "    for i in range(len(out)):\n",
    "        kinkout += out[i] * inn[i]\n",
    "    \n",
    "    alpha_num = kinkout / float(N)\n",
    "    alpha = alpha_num/k\n",
    "    alpha_tilde = (L - L_b) / (N - B)\n",
    "    a_at = alpha / alpha_tilde ##again correct\n",
    "    \n",
    "    print(\"Quotient alpha/alpha_tilde = \", a_at)\n",
    "    \n",
    "    alpha1.append(alpha)\n",
    "    \n",
    "    #compute tau\n",
    "    tauu = tau(alpha, q_tilde, q) ##again correct\n",
    "    print(\"Loop exponent tau =\", tauu)\n",
    "    \n",
    "    tau1.append(tauu)\n",
    "    \n",
    "    #largest eigenvalue\n",
    "    #adj_spectrum = nx.adjacency_spectrum(G)\n",
    "    #w, v = LA.eig(adj_spectrum)\n",
    "    #lamd\n",
    "    #print(\"Largest eigenvalue =\", lambda_i)\n",
    "    \n",
    "    #lambda1.append(lambda_i)\n",
    "    \n",
    "    #return N, B, k, q, q_qt, s_st, a_at, tauu, lambda_i"
   ]
  },
  {
   "cell_type": "code",
   "execution_count": 10,
   "id": "accepted-cookie",
   "metadata": {},
   "outputs": [
    {
     "name": "stdout",
     "output_type": "stream",
     "text": [
      "Number of nodes N: 58\n",
      "Number of edges L: 126\n",
      "Number of basal nodes B: 28\n",
      "Number of basal edges L_B: 103\n",
      "Average in degree:   2.1724\n",
      "\n",
      "Trophic incoherence parameter q:  0.3031938205494135\n",
      "Quotient q/q_tilde =  0.641615785084238\n",
      "Quotient s/s_tilde =  0.9955474921155669\n",
      "Quotient alpha/alpha_tilde =  1.0766045548654244\n",
      "Loop exponent tau = -3.391888996893059\n"
     ]
    }
   ],
   "source": [
    "q = []\n",
    "q_qt = []\n",
    "alpha_val = []\n",
    "tau_val = []\n",
    "\n",
    "#N_coweta, B_coweta, k_mean_coweta, q_coweta, q_qt_coweta, s_st_coweta, a_at_coweta, tauu_coweta, lambda_i_coweta = get_main_properties(G_coweeta, q, q_qt)\n",
    "get_main_properties(G_coweeta, q, q_qt, alpha_val, tau_val)"
   ]
  },
  {
   "cell_type": "markdown",
   "id": "dietary-better",
   "metadata": {},
   "source": [
    "## Coweeta 17"
   ]
  },
  {
   "cell_type": "code",
   "execution_count": 11,
   "id": "contrary-cuisine",
   "metadata": {},
   "outputs": [],
   "source": [
    "##read the adjacency matrix\n",
    "coweeta_17_adjacency = pd.read_excel('Dataset/Coweeta17.xls',index_col=0)\n",
    "get_leading_eigenvalue(coweeta_17_adjacency, lamda_i_val)"
   ]
  },
  {
   "cell_type": "code",
   "execution_count": 12,
   "id": "prime-walnut",
   "metadata": {},
   "outputs": [],
   "source": [
    "coweeta_17_adjacency.index = coweeta_17_adjacency.columns ##the names are the same"
   ]
  },
  {
   "cell_type": "code",
   "execution_count": 13,
   "id": "norwegian-layout",
   "metadata": {},
   "outputs": [],
   "source": [
    "G_coweeta_17 = nx.convert_matrix.from_pandas_adjacency(coweeta_17_adjacency,create_using=nx.DiGraph)"
   ]
  },
  {
   "cell_type": "code",
   "execution_count": 14,
   "id": "interracial-valley",
   "metadata": {},
   "outputs": [
    {
     "name": "stdout",
     "output_type": "stream",
     "text": [
      "Number of nodes N: 71\n",
      "Number of edges L: 148\n",
      "Number of basal nodes B: 38\n",
      "Number of basal edges L_B: 128\n",
      "Average in degree:   2.0845\n",
      "\n",
      "Trophic incoherence parameter q:  0.23752666991081006\n",
      "Quotient q/q_tilde =  0.6009002255625147\n",
      "Quotient s/s_tilde =  1.0045233323790437\n",
      "Quotient alpha/alpha_tilde =  1.2486486486486488\n",
      "Loop exponent tau = -5.940988851570817\n"
     ]
    }
   ],
   "source": [
    "#N_coweta_17, B_coweta_17, k_mean_coweta_17, q_coweta_17, q_qt_coweta_17,s_st_coweta_17, a_at_coweta_17, tauu_coweta_17, lambda_i_coweta_17 = get_main_properties(G_coweeta_17, q, q_qt)\n",
    "\n",
    "get_main_properties(G_coweeta_17, q, q_qt, alpha_val, tau_val)"
   ]
  },
  {
   "cell_type": "markdown",
   "id": "little-certificate",
   "metadata": {},
   "source": [
    "## Berwick"
   ]
  },
  {
   "cell_type": "code",
   "execution_count": 15,
   "id": "romantic-integration",
   "metadata": {},
   "outputs": [
    {
     "name": "stdout",
     "output_type": "stream",
     "text": [
      "Number of nodes N: 79\n",
      "Number of edges L: 240\n",
      "Number of basal nodes B: 37\n",
      "Number of basal edges L_B: 216\n",
      "Average in degree:   3.0380\n",
      "\n",
      "Trophic incoherence parameter q:  0.1755942292142123\n",
      "Quotient q/q_tilde =  0.5267826876426368\n",
      "Quotient s/s_tilde =  1.0193633952254642\n",
      "Quotient alpha/alpha_tilde =  1.0645833333333332\n",
      "Loop exponent tau = -12.213248517849875\n"
     ]
    }
   ],
   "source": [
    "berwick_adjacency = pd.read_excel('Dataset/Berwick.xls',index_col=0)\n",
    "get_leading_eigenvalue(berwick_adjacency, lamda_i_val)\n",
    "berwick_adjacency.index = berwick_adjacency.columns ##the names are the same\n",
    "G_berwick = nx.convert_matrix.from_pandas_adjacency(berwick_adjacency,create_using=nx.DiGraph)\n",
    "#N_berw, B_berw, k_berw, q_berw, q_tberw, s_st_berw, a_at_berw, tauu_berw, lambda_i_berw = get_main_properties(G_berwick, q, q_qt)\n",
    "get_main_properties(G_berwick, q, q_qt, alpha_val, tau_val)"
   ]
  },
  {
   "cell_type": "markdown",
   "id": "positive-arabic",
   "metadata": {},
   "source": [
    "## Blackrock"
   ]
  },
  {
   "cell_type": "code",
   "execution_count": 16,
   "id": "published-amino",
   "metadata": {},
   "outputs": [],
   "source": [
    "def from_dataset(file):\n",
    "    adjacency = pd.read_excel(file,index_col=0)\n",
    "    #we also compute the leading eigenvalue from the adj \n",
    "    get_leading_eigenvalue(adjacency, lamda_i_val)\n",
    "    adjacency.index = adjacency.columns ##the names are the same\n",
    "    G_ = nx.convert_matrix.from_pandas_adjacency(adjacency,create_using=nx.DiGraph)\n",
    "    return G_"
   ]
  },
  {
   "cell_type": "code",
   "execution_count": 17,
   "id": "tropical-territory",
   "metadata": {},
   "outputs": [
    {
     "name": "stdout",
     "output_type": "stream",
     "text": [
      "Number of nodes N: 87\n",
      "Number of edges L: 375\n",
      "Number of basal nodes B: 50\n",
      "Number of basal edges L_B: 338\n",
      "Average in degree:   4.3103\n",
      "\n",
      "Trophic incoherence parameter q:  0.18684423703785832\n",
      "Quotient q/q_tilde =  0.5647252355820788\n",
      "Quotient s/s_tilde =  1.0089619503688232\n",
      "Quotient alpha/alpha_tilde =  1.2746666666666666\n",
      "Loop exponent tau = -9.511975953768433\n"
     ]
    }
   ],
   "source": [
    "G_blackrock = from_dataset('Dataset/Blackrock.xls')\n",
    "#N_black, B_black, k_black, q_black, q_tblack, s_st_black, a_at_black, tauu_black, lambda_i_black = get_main_properties(G_blackrock, q, q_qt)\n",
    "get_main_properties(G_blackrock, q, q_qt, alpha_val, tau_val)"
   ]
  },
  {
   "cell_type": "markdown",
   "id": "palestinian-establishment",
   "metadata": {},
   "source": [
    "## Broad"
   ]
  },
  {
   "cell_type": "code",
   "execution_count": 18,
   "id": "checked-hepatitis",
   "metadata": {},
   "outputs": [
    {
     "name": "stdout",
     "output_type": "stream",
     "text": [
      "Number of nodes N: 95\n",
      "Number of edges L: 565\n",
      "Number of basal nodes B: 54\n",
      "Number of basal edges L_B: 524\n",
      "Average in degree:   5.9474\n",
      "\n",
      "Trophic incoherence parameter q:  0.13659366589298672\n",
      "Quotient q/q_tilde =  0.48831973458351957\n",
      "Quotient s/s_tilde =  1.0391608811596473\n",
      "Quotient alpha/alpha_tilde =  1.1734513274336282\n",
      "Loop exponent tau = -20.248207924576306\n"
     ]
    }
   ],
   "source": [
    "G_broad = from_dataset('Dataset/Broad.xls')\n",
    "#N_broad, B_broad, k_broad, q_broad, q_tbroad, s_st_broad, a_at_broad, tauu_broad, lambda_i_broad = get_main_properties(G_broad, q, q_qt)\n",
    "get_main_properties(G_broad, q, q_qt, alpha_val, tau_val)"
   ]
  },
  {
   "cell_type": "markdown",
   "id": "quantitative-zoning",
   "metadata": {},
   "source": [
    "## This one has the largest eigenvalue diff (check)"
   ]
  },
  {
   "cell_type": "markdown",
   "id": "roman-transport",
   "metadata": {},
   "source": [
    "## Canton"
   ]
  },
  {
   "cell_type": "code",
   "execution_count": 19,
   "id": "northern-honduras",
   "metadata": {},
   "outputs": [
    {
     "name": "stdout",
     "output_type": "stream",
     "text": [
      "Number of nodes N: 109\n",
      "Number of edges L: 708\n",
      "Number of basal nodes B: 57\n",
      "Number of basal edges L_B: 660\n",
      "Average in degree:   6.4954\n",
      "\n",
      "Trophic incoherence parameter q:  0.1509423281557914\n",
      "Quotient q/q_tilde =  0.5597091328538385\n",
      "Quotient s/s_tilde =  1.004783944923397\n",
      "Quotient alpha/alpha_tilde =  1.2944915254237286\n",
      "Loop exponent tau = -14.892547806036713\n"
     ]
    }
   ],
   "source": [
    "canton_adjacency = pd.read_excel('Dataset/Canton.xls',index_col=0)\n",
    "canton_adjacency.drop('Unnamed: 110', inplace=True, axis=1)\n",
    "get_leading_eigenvalue(canton_adjacency, lamda_i_val)\n",
    "canton_adjacency.index = canton_adjacency.columns ##the names are the same\n",
    "G_canton = nx.convert_matrix.from_pandas_adjacency(canton_adjacency,create_using=nx.DiGraph)\n",
    "#N_canton, B_canton, k_canton, q_canton, q_tcanton, s_st_canton, a_at_canton, tauu_canton, lambda_i_canton = get_main_properties(G_canton, q, q_qt)\n",
    "get_main_properties(G_canton, q, q_qt, alpha_val, tau_val)"
   ]
  },
  {
   "cell_type": "markdown",
   "id": "comparable-anniversary",
   "metadata": {},
   "source": [
    "## This one has the largest eigenvalue diff (check)\n",
    "\n",
    "## Catlins"
   ]
  },
  {
   "cell_type": "code",
   "execution_count": 20,
   "id": "monthly-philippines",
   "metadata": {},
   "outputs": [
    {
     "name": "stdout",
     "output_type": "stream",
     "text": [
      "Number of nodes N: 49\n",
      "Number of edges L: 110\n",
      "Number of basal nodes B: 15\n",
      "Number of basal edges L_B: 89\n",
      "Average in degree:   2.2449\n",
      "\n",
      "Trophic incoherence parameter q:  0.19968984214989816\n",
      "Quotient q/q_tilde =  0.4110941812001329\n",
      "Quotient s/s_tilde =  0.960951509914601\n",
      "Quotient alpha/alpha_tilde =  1.000865800865801\n",
      "Loop exponent tau = -10.90078514519563\n"
     ]
    }
   ],
   "source": [
    "G_catlins = from_dataset('Dataset/Catlins.xls')\n",
    "#N_cat, B_cat, k_cat, q_cat, q_tcat, s_st_cat, a_at_cat, tauu_cat, lambda_i_cat = get_main_properties(G_catlins, q, q_qt)\n",
    "get_main_properties(G_catlins, q, q_qt, alpha_val, tau_val)"
   ]
  },
  {
   "cell_type": "markdown",
   "id": "athletic-dinner",
   "metadata": {},
   "source": [
    "## Dempsters (AU)"
   ]
  },
  {
   "cell_type": "code",
   "execution_count": 21,
   "id": "virtual-tunisia",
   "metadata": {},
   "outputs": [
    {
     "name": "stdout",
     "output_type": "stream",
     "text": [
      "Number of nodes N: 86\n",
      "Number of edges L: 415\n",
      "Number of basal nodes B: 49\n",
      "Number of basal edges L_B: 364\n",
      "Average in degree:   4.8256\n",
      "\n",
      "Trophic incoherence parameter q:  0.20969008507775394\n",
      "Quotient q/q_tilde =  0.5602005097597508\n",
      "Quotient s/s_tilde =  1.036012424263351\n",
      "Quotient alpha/alpha_tilde =  1.0086935979210963\n",
      "Loop exponent tau = -7.473216029450411\n"
     ]
    }
   ],
   "source": [
    "G_demp_au = from_dataset('Dataset/DempstersAu.xls')\n",
    "#N_demp_au, B_demp_au, k_demp_au, q_demp_au, q_tdemp_au, s_st_demp_au, a_at_demp_au, tauu_demp_au, lambda_i_demp_au = get_main_properties(G_demp_au, q, q_qt)\n",
    "get_main_properties(G_demp_au, q, q_qt, alpha_val, tau_val)"
   ]
  },
  {
   "cell_type": "markdown",
   "id": "separated-cyprus",
   "metadata": {},
   "source": [
    "\n",
    "## This one has the largest eigenvalue diff (check)\n",
    "\n",
    "## Dempsters (Sp)"
   ]
  },
  {
   "cell_type": "code",
   "execution_count": 22,
   "id": "neutral-consumption",
   "metadata": {},
   "outputs": [
    {
     "name": "stdout",
     "output_type": "stream",
     "text": [
      "Number of nodes N: 97\n",
      "Number of edges L: 538\n",
      "Number of basal nodes B: 54\n",
      "Number of basal edges L_B: 484\n",
      "Average in degree:   5.5464\n",
      "\n",
      "Trophic incoherence parameter q:  0.12522725670082951\n",
      "Quotient q/q_tilde =  0.3749079654290153\n",
      "Quotient s/s_tilde =  1.015084526433501\n",
      "Quotient alpha/alpha_tilde =  1.1115585846069118\n",
      "Loop exponent tau = -27.068932539268054\n"
     ]
    }
   ],
   "source": [
    "G_demp_sp = from_dataset('Dataset/DempstersSp.xls')\n",
    "#N_demp_sp, B_demp_sp, k_demp_sp, q_demp_sp, q_tdemp_sp, s_st_demp_sp, a_at_demp_sp, tauu_demp_sp, lambda_i_demp_sp = get_main_properties(G_demp_sp, q, q_qt)\n",
    "get_main_properties(G_demp_sp, q, q_qt, alpha_val, tau_val)"
   ]
  },
  {
   "cell_type": "markdown",
   "id": "arctic-roller",
   "metadata": {},
   "source": [
    "\n",
    "## This one has the largest eigenvalue diff (check)\n",
    "\n",
    "## Dempsters (Su)"
   ]
  },
  {
   "cell_type": "code",
   "execution_count": 23,
   "id": "existing-movie",
   "metadata": {},
   "outputs": [
    {
     "name": "stdout",
     "output_type": "stream",
     "text": [
      "Number of nodes N: 107\n",
      "Number of edges L: 966\n",
      "Number of basal nodes B: 50\n",
      "Number of basal edges L_B: 792\n",
      "Average in degree:   9.0280\n",
      "\n",
      "Trophic incoherence parameter q:  0.2684292787412525\n",
      "Quotient q/q_tilde =  0.5726876941077912\n",
      "Quotient s/s_tilde =  1.0472435207695199\n",
      "Quotient alpha/alpha_tilde =  1.0309131148711357\n",
      "Loop exponent tau = -3.5169022425700636\n"
     ]
    }
   ],
   "source": [
    "G_demp_su = from_dataset('Dataset/DempstersSu.xls')\n",
    "#N_demp_su, B_demp_su, k_demp_su, q_demp_su, q_tdemp_su, s_st_demp_su, a_at_demp_su, tauu_demp_su, lambda_i_demp_su = get_main_properties(G_demp_su, q, q_qt)\n",
    "get_main_properties(G_demp_su, q, q_qt, alpha_val, tau_val)"
   ]
  },
  {
   "cell_type": "markdown",
   "id": "several-carter",
   "metadata": {},
   "source": [
    "\n",
    "## This one has the largest eigenvalue diff (check)\n",
    "\n",
    "## German"
   ]
  },
  {
   "cell_type": "code",
   "execution_count": 24,
   "id": "bibliographic-tension",
   "metadata": {},
   "outputs": [
    {
     "name": "stdout",
     "output_type": "stream",
     "text": [
      "Number of nodes N: 86\n",
      "Number of edges L: 353\n",
      "Number of basal nodes B: 50\n",
      "Number of basal edges L_B: 298\n",
      "Average in degree:   4.1047\n",
      "\n",
      "Trophic incoherence parameter q:  0.1991039107184075\n",
      "Quotient q/q_tilde =  0.4634539389583854\n",
      "Quotient s/s_tilde =  0.9917043109472735\n",
      "Quotient alpha/alpha_tilde =  1.1014164305949008\n",
      "Loop exponent tau = -9.383266301115496\n"
     ]
    }
   ],
   "source": [
    "G_german = from_dataset('Dataset/German.xls')\n",
    "#N_german, B_german, k_german, q_german, q_tgerman, s_st_german, a_at_german, tauu_german, lambda_i_german = get_main_properties(G_german, q, q_qt)\n",
    "get_main_properties(G_german, q, q_qt, alpha_val, tau_val)"
   ]
  },
  {
   "cell_type": "markdown",
   "id": "animated-weapon",
   "metadata": {},
   "source": [
    "## Healy"
   ]
  },
  {
   "cell_type": "code",
   "execution_count": 25,
   "id": "polish-cigarette",
   "metadata": {},
   "outputs": [
    {
     "name": "stdout",
     "output_type": "stream",
     "text": [
      "Number of nodes N: 96\n",
      "Number of edges L: 634\n",
      "Number of basal nodes B: 47\n",
      "Number of basal edges L_B: 539\n",
      "Average in degree:   6.6042\n",
      "\n",
      "Trophic incoherence parameter q:  0.22416442895993596\n",
      "Quotient q/q_tilde =  0.5339483866510883\n",
      "Quotient s/s_tilde =  1.0323751752307737\n",
      "Quotient alpha/alpha_tilde =  1.1186285904034534\n",
      "Loop exponent tau = -6.339307740504225\n"
     ]
    }
   ],
   "source": [
    "G_Healy = from_dataset('Dataset/Healy.xls')\n",
    "#N_Healy, B_Healy, k_Healy, q_Healy, q_tHealy, s_st_Healy, a_at_Healy, tauu_Healy, lambda_i_Healy = get_main_properties(G_Healy, q, q_qt)\n",
    "get_main_properties(G_Healy, q, q_qt, alpha_val, tau_val)"
   ]
  },
  {
   "cell_type": "markdown",
   "id": "pressed-james",
   "metadata": {},
   "source": [
    "## Kyeburn"
   ]
  },
  {
   "cell_type": "code",
   "execution_count": 26,
   "id": "incorporate-berlin",
   "metadata": {},
   "outputs": [
    {
     "name": "stdout",
     "output_type": "stream",
     "text": [
      "Number of nodes N: 98\n",
      "Number of edges L: 629\n",
      "Number of basal nodes B: 58\n",
      "Number of basal edges L_B: 582\n",
      "Average in degree:   6.4184\n",
      "\n",
      "Trophic incoherence parameter q:  0.17728603595586254\n",
      "Quotient q/q_tilde =  0.6238599309712293\n",
      "Quotient s/s_tilde =  1.0223160361728243\n",
      "Quotient alpha/alpha_tilde =  1.177147109562629\n",
      "Loop exponent tau = -9.39234513134631\n"
     ]
    }
   ],
   "source": [
    "G_Kye = from_dataset('Dataset/Kyeburn.xls')\n",
    "#N_Kye, B_Kye, k_Kye, q_Kye, q_tKye, s_st_Kye, a_at_Kye, tauu_Kye, lambda_i_Kye = get_main_properties(G_Kye, q, q_qt)\n",
    "get_main_properties(G_Kye, q, q_qt, alpha_val, tau_val)"
   ]
  },
  {
   "cell_type": "markdown",
   "id": "occupational-haiti",
   "metadata": {},
   "source": [
    "## LilKyeburn"
   ]
  },
  {
   "cell_type": "code",
   "execution_count": 27,
   "id": "transsexual-feature",
   "metadata": {},
   "outputs": [
    {
     "name": "stdout",
     "output_type": "stream",
     "text": [
      "Number of nodes N: 78\n",
      "Number of edges L: 375\n",
      "Number of basal nodes B: 42\n",
      "Number of basal edges L_B: 315\n",
      "Average in degree:   4.8077\n",
      "\n",
      "Trophic incoherence parameter q:  0.23304938172654618\n",
      "Quotient q/q_tilde =  0.5339832162122782\n",
      "Quotient s/s_tilde =  1.0129883846343657\n",
      "Quotient alpha/alpha_tilde =  1.1024\n",
      "Loop exponent tau = -5.9727509675867205\n"
     ]
    }
   ],
   "source": [
    "G_lilKye = from_dataset('Dataset/LilKyeburn.xls')\n",
    "#N_lilKye, B_lilKye, k_lilKye, q_lilKye, q_tlilKye, s_st_lilKye, a_at_lilKye, tauu_lilKye, lambda_i_lilKye = get_main_properties(G_lilKye, q, q_qt)\n",
    "get_main_properties(G_lilKye, q, q_qt, alpha_val, tau_val)"
   ]
  },
  {
   "cell_type": "markdown",
   "id": "stopped-woman",
   "metadata": {},
   "source": [
    "## Martin"
   ]
  },
  {
   "cell_type": "code",
   "execution_count": 28,
   "id": "monetary-telescope",
   "metadata": {},
   "outputs": [
    {
     "name": "stdout",
     "output_type": "stream",
     "text": [
      "Number of nodes N: 105\n",
      "Number of edges L: 343\n",
      "Number of basal nodes B: 48\n",
      "Number of basal edges L_B: 262\n",
      "Average in degree:   3.2667\n",
      "\n",
      "Trophic incoherence parameter q:  0.3241134072690224\n",
      "Quotient q/q_tilde =  0.5829148679149672\n",
      "Quotient s/s_tilde =  0.9890172049133403\n",
      "Quotient alpha/alpha_tilde =  1.2555879494655005\n",
      "Loop exponent tau = -2.5633751008349748\n"
     ]
    }
   ],
   "source": [
    "G_mar = from_dataset('Dataset/Martins.xls')\n",
    "#N_mar, B_mar, k_mar, q_mar, q_tmar, s_st_mar, a_at_mar, tauu_mar, lambda_i_mar= get_main_properties(G_mar, q, q_qt)\n",
    "get_main_properties(G_mar, q, q_qt, alpha_val, tau_val)"
   ]
  },
  {
   "cell_type": "markdown",
   "id": "reported-contrast",
   "metadata": {},
   "source": [
    "## Narrowdale"
   ]
  },
  {
   "cell_type": "code",
   "execution_count": 29,
   "id": "czech-plasma",
   "metadata": {},
   "outputs": [
    {
     "name": "stdout",
     "output_type": "stream",
     "text": [
      "Number of nodes N: 71\n",
      "Number of edges L: 155\n",
      "Number of basal nodes B: 28\n",
      "Number of basal edges L_B: 127\n",
      "Average in degree:   2.1831\n",
      "\n",
      "Trophic incoherence parameter q:  0.2298120491976761\n",
      "Quotient q/q_tilde =  0.48943569548684096\n",
      "Quotient s/s_tilde =  0.9806904344018776\n",
      "Quotient alpha/alpha_tilde =  1.1988479262672809\n",
      "Loop exponent tau = -7.4470398133854\n"
     ]
    }
   ],
   "source": [
    "G_narr = from_dataset('Dataset/Narrowdale.xls')\n",
    "#N_narr, B_narr, k_narr, q_narr, q_tnarr, s_st_narr, a_at_narr, tauu_narr, lambda_i_narr= get_main_properties(G_narr, q, q_qt)\n",
    "get_main_properties(G_narr, q, q_qt, alpha_val, tau_val)"
   ]
  },
  {
   "cell_type": "markdown",
   "id": "reported-thread",
   "metadata": {},
   "source": [
    "## North col"
   ]
  },
  {
   "cell_type": "code",
   "execution_count": 30,
   "id": "excess-moses",
   "metadata": {},
   "outputs": [
    {
     "name": "stdout",
     "output_type": "stream",
     "text": [
      "Number of nodes N: 78\n",
      "Number of edges L: 241\n",
      "Number of basal nodes B: 25\n",
      "Number of basal edges L_B: 188\n",
      "Average in degree:   3.0897\n",
      "\n",
      "Trophic incoherence parameter q:  0.27525066221679273\n",
      "Quotient q/q_tilde =  0.5184052156873364\n",
      "Quotient s/s_tilde =  0.9777312233142863\n",
      "Quotient alpha/alpha_tilde =  1.3609958506224067\n",
      "Loop exponent tau = -4.517732247710931\n"
     ]
    }
   ],
   "source": [
    "G_norco = from_dataset('Dataset/NorthCol.xls')\n",
    "#N_norco, B_norco, k_norco, q_norco, q_tnorco, s_st_norco, a_at_norco, tauu_norco, lambda_i_norco= get_main_properties(G_norco, q, q_qt)\n",
    "get_main_properties(G_norco, q, q_qt, alpha_val, tau_val)"
   ]
  },
  {
   "cell_type": "markdown",
   "id": "olympic-happiness",
   "metadata": {},
   "source": [
    "## powder"
   ]
  },
  {
   "cell_type": "code",
   "execution_count": 31,
   "id": "solid-birth",
   "metadata": {},
   "outputs": [
    {
     "name": "stdout",
     "output_type": "stream",
     "text": [
      "Number of nodes N: 78\n",
      "Number of edges L: 268\n",
      "Number of basal nodes B: 32\n",
      "Number of basal edges L_B: 221\n",
      "Average in degree:   3.4359\n",
      "\n",
      "Trophic incoherence parameter q:  0.2150987375016637\n",
      "Quotient q/q_tilde =  0.46642848940699144\n",
      "Quotient s/s_tilde =  0.9906582186584975\n",
      "Quotient alpha/alpha_tilde =  1.1248015242934266\n",
      "Loop exponent tau = -8.316552885769664\n"
     ]
    }
   ],
   "source": [
    "G_pow = from_dataset('Dataset/Powder.xls')\n",
    "#N_pow, B_pow, k_pow, q_pow, q_tpow, s_st_pow, a_at_pow, tauu_pow, lambda_i_pow= get_main_properties(G_pow, q, q_qt)\n",
    "get_main_properties(G_pow, q, q_qt, alpha_val, tau_val)"
   ]
  },
  {
   "cell_type": "markdown",
   "id": "surrounded-recycling",
   "metadata": {},
   "source": [
    "## Stony"
   ]
  },
  {
   "cell_type": "code",
   "execution_count": 32,
   "id": "respected-building",
   "metadata": {},
   "outputs": [
    {
     "name": "stdout",
     "output_type": "stream",
     "text": [
      "Number of nodes N: 113\n",
      "Number of edges L: 832\n",
      "Number of basal nodes B: 64\n",
      "Number of basal edges L_B: 772\n",
      "Average in degree:   7.3628\n",
      "\n",
      "Trophic incoherence parameter q:  0.1517787292748646\n",
      "Quotient q/q_tilde =  0.5444323682170558\n",
      "Quotient s/s_tilde =  1.0336399023639016\n",
      "Quotient alpha/alpha_tilde =  1.1513822115384615\n",
      "Loop exponent tau = -14.927598985024083\n"
     ]
    }
   ],
   "source": [
    "G_sto = from_dataset('Dataset/Stony.xls')\n",
    "#N_sto, B_sto, k_sto, q_sto, q_tsto, s_st_v, a_at_sto, tauu_sto, lambda_i_sto= get_main_properties(G_sto, q, q_qt)\n",
    "get_main_properties(G_sto, q, q_qt, alpha_val, tau_val)"
   ]
  },
  {
   "cell_type": "markdown",
   "id": "protected-irish",
   "metadata": {},
   "source": [
    "## Sutton Sp"
   ]
  },
  {
   "cell_type": "code",
   "execution_count": 33,
   "id": "talented-xerox",
   "metadata": {},
   "outputs": [
    {
     "name": "stdout",
     "output_type": "stream",
     "text": [
      "Number of nodes N: 79\n",
      "Number of edges L: 391\n",
      "Number of basal nodes B: 55\n",
      "Number of basal edges L_B: 379\n",
      "Average in degree:   4.9494\n",
      "\n",
      "Trophic incoherence parameter q:  0.09975193015843092\n",
      "Quotient q/q_tilde =  0.5605963810351147\n",
      "Quotient s/s_tilde =  1.0077352193261284\n",
      "Quotient alpha/alpha_tilde =  1.1457800511508953\n",
      "Loop exponent tau = -35.0143908253994\n"
     ]
    }
   ],
   "source": [
    "G_sutsp = from_dataset('Dataset/SuttonSp.xls')\n",
    "#N_sutsp, B_sutsp, k_sutsp, q_sutsp, q_tsutsp, s_st_sutsp, a_at_sutsp, tauu_sutsp, lambda_i_sutsp= get_main_properties(G_sutsp, q, q_qt)\n",
    "get_main_properties(G_sutsp, q, q_qt, alpha_val, tau_val)"
   ]
  },
  {
   "cell_type": "markdown",
   "id": "third-refrigerator",
   "metadata": {},
   "source": [
    " ## sutton Su"
   ]
  },
  {
   "cell_type": "code",
   "execution_count": 34,
   "id": "organized-conservative",
   "metadata": {},
   "outputs": [],
   "source": [
    "sutsu_adjacency = pd.read_excel('Dataset/SuttonSu.xls',index_col=0)\n",
    "sutsu_adjacency =sutsu_adjacency.dropna()\n",
    "get_leading_eigenvalue(sutsu_adjacency, lamda_i_val)"
   ]
  },
  {
   "cell_type": "code",
   "execution_count": 35,
   "id": "provincial-berkeley",
   "metadata": {},
   "outputs": [
    {
     "name": "stdout",
     "output_type": "stream",
     "text": [
      "Number of nodes N: 92\n",
      "Number of edges L: 423\n",
      "Number of basal nodes B: 69\n",
      "Number of basal edges L_B: 407\n",
      "Average in degree:   4.5978\n",
      "\n",
      "Trophic incoherence parameter q:  0.1452394510179608\n",
      "Quotient q/q_tilde =  0.7325239219525284\n",
      "Quotient s/s_tilde =  1.0072930251486816\n",
      "Quotient alpha/alpha_tilde =  1.0806737588652482\n",
      "Loop exponent tau = -11.269433830563253\n"
     ]
    }
   ],
   "source": [
    "sutsu_adjacency.index = sutsu_adjacency.columns ##the names are the same\n",
    "G_sutsu = nx.convert_matrix.from_pandas_adjacency(sutsu_adjacency,create_using=nx.DiGraph)\n",
    "#N_sutsu, B_sutsu, k_sutsu, q_sutsu, q_sutsu, s_st_sutsu, a_at_sutsu, tauu_sutsu, lambda_i_sutsu= get_main_properties(G_sutsu, q, q_qt)\n",
    "get_main_properties(G_sutsu, q, q_qt, alpha_val, tau_val)"
   ]
  },
  {
   "cell_type": "markdown",
   "id": "sorted-taste",
   "metadata": {},
   "source": [
    "## the previous one has strange tau\n",
    "## Troy"
   ]
  },
  {
   "cell_type": "code",
   "execution_count": 36,
   "id": "written-jewel",
   "metadata": {},
   "outputs": [
    {
     "name": "stdout",
     "output_type": "stream",
     "text": [
      "Number of nodes N: 78\n",
      "Number of edges L: 181\n",
      "Number of basal nodes B: 41\n",
      "Number of basal edges L_B: 144\n",
      "Average in degree:   2.3205\n",
      "\n",
      "Trophic incoherence parameter q:  0.18742253930503422\n",
      "Quotient q/q_tilde =  0.3697449079193538\n",
      "Quotient s/s_tilde =  0.9913919720378531\n",
      "Quotient alpha/alpha_tilde =  1.138121546961326\n",
      "Loop exponent tau = -12.15865549905457\n"
     ]
    }
   ],
   "source": [
    "G_troy = from_dataset('Dataset/Troy.xls')\n",
    "#N_troy, B_troy, k_troy, q_troy, q_qttroy, s_st_troy, a_at_troy, tauu_troy, lambda_i_troy= get_main_properties(G_troy, q, q_qt)\n",
    "get_main_properties(G_troy, q, q_qt, alpha_val, tau_val)"
   ]
  },
  {
   "cell_type": "markdown",
   "id": "studied-theorem",
   "metadata": {},
   "source": [
    "## Venlaw"
   ]
  },
  {
   "cell_type": "code",
   "execution_count": 37,
   "id": "ongoing-narrative",
   "metadata": {},
   "outputs": [
    {
     "name": "stdout",
     "output_type": "stream",
     "text": [
      "Number of nodes N: 69\n",
      "Number of edges L: 187\n",
      "Number of basal nodes B: 33\n",
      "Number of basal edges L_B: 158\n",
      "Average in degree:   2.7101\n",
      "\n",
      "Trophic incoherence parameter q:  0.22906396021247372\n",
      "Quotient q/q_tilde =  0.534670606402672\n",
      "Quotient s/s_tilde =  1.0085689221990084\n",
      "Quotient alpha/alpha_tilde =  1.3475935828877006\n",
      "Loop exponent tau = -6.722965422500218\n"
     ]
    }
   ],
   "source": [
    "G_ven = from_dataset('Dataset/Venlaw.xls')\n",
    "\n",
    "#N_ven, B_ven, k_ven, q_ven, q_tven, s_st_ven, a_at_ven, tauu_ven, lambda_i_ven= get_main_properties(G_ven, q, q_qt)\n",
    "get_main_properties(G_ven, q, q_qt, alpha_val, tau_val)"
   ]
  },
  {
   "cell_type": "markdown",
   "id": "square-florence",
   "metadata": {},
   "source": [
    "## Little Rock Dataset"
   ]
  },
  {
   "cell_type": "code",
   "execution_count": 38,
   "id": "traditional-paragraph",
   "metadata": {},
   "outputs": [],
   "source": [
    "little_rock = pd.read_csv('Dataset/maayan-foodweb/out.maayan-foodweb', sep=' ')\n",
    "little_rock.columns = [\"A\", \"B\", \"C\"]\n",
    "df = pd.crosstab(little_rock.A, little_rock.B)\n",
    "idx = df.columns.union(df.index)\n",
    "adj_little_rock = df.reindex(index = idx, columns=idx, fill_value=0)\n",
    "get_leading_eigenvalue(adj_little_rock, lamda_i_val)\n"
   ]
  },
  {
   "cell_type": "code",
   "execution_count": 39,
   "id": "blank-metabolism",
   "metadata": {},
   "outputs": [
    {
     "name": "stdout",
     "output_type": "stream",
     "text": [
      "Number of nodes N: 183\n",
      "Number of edges L: 2494\n",
      "Number of basal nodes B: 1\n",
      "Number of basal edges L_B: 63\n",
      "Average in degree:  13.6284\n",
      "\n",
      "Trophic incoherence parameter q:  0.5332520898086699\n",
      "Quotient q/q_tilde =  0.0858440821377976\n",
      "Quotient s/s_tilde =  0.07531788814971682\n",
      "Quotient alpha/alpha_tilde =  0.8584410070800936\n",
      "Loop exponent tau = 0.6940234373593404\n"
     ]
    }
   ],
   "source": [
    "G_little_rock = nx.convert_matrix.from_pandas_adjacency(adj_little_rock,create_using=nx.DiGraph)\n",
    "get_main_properties(G_little_rock, q, q_qt, alpha_val, tau_val)\n",
    "\n",
    "#the data is different than for the case in the table "
   ]
  },
  {
   "cell_type": "markdown",
   "id": "processed-glasgow",
   "metadata": {},
   "source": [
    "## C. eleganse \n",
    "https://snap.stanford.edu/data/C-elegans-frontal.html"
   ]
  },
  {
   "cell_type": "code",
   "execution_count": 40,
   "id": "framed-people",
   "metadata": {},
   "outputs": [
    {
     "data": {
      "text/html": [
       "<div>\n",
       "<style scoped>\n",
       "    .dataframe tbody tr th:only-of-type {\n",
       "        vertical-align: middle;\n",
       "    }\n",
       "\n",
       "    .dataframe tbody tr th {\n",
       "        vertical-align: top;\n",
       "    }\n",
       "\n",
       "    .dataframe thead th {\n",
       "        text-align: right;\n",
       "    }\n",
       "</style>\n",
       "<table border=\"1\" class=\"dataframe\">\n",
       "  <thead>\n",
       "    <tr style=\"text-align: right;\">\n",
       "      <th></th>\n",
       "      <th>From</th>\n",
       "      <th>To</th>\n",
       "    </tr>\n",
       "  </thead>\n",
       "  <tbody>\n",
       "    <tr>\n",
       "      <th>0</th>\n",
       "      <td>11</td>\n",
       "      <td>0</td>\n",
       "    </tr>\n",
       "    <tr>\n",
       "      <th>1</th>\n",
       "      <td>26</td>\n",
       "      <td>0</td>\n",
       "    </tr>\n",
       "    <tr>\n",
       "      <th>2</th>\n",
       "      <td>69</td>\n",
       "      <td>0</td>\n",
       "    </tr>\n",
       "    <tr>\n",
       "      <th>3</th>\n",
       "      <td>71</td>\n",
       "      <td>0</td>\n",
       "    </tr>\n",
       "    <tr>\n",
       "      <th>4</th>\n",
       "      <td>83</td>\n",
       "      <td>0</td>\n",
       "    </tr>\n",
       "    <tr>\n",
       "      <th>...</th>\n",
       "      <td>...</td>\n",
       "      <td>...</td>\n",
       "    </tr>\n",
       "    <tr>\n",
       "      <th>759</th>\n",
       "      <td>86</td>\n",
       "      <td>130</td>\n",
       "    </tr>\n",
       "    <tr>\n",
       "      <th>760</th>\n",
       "      <td>87</td>\n",
       "      <td>130</td>\n",
       "    </tr>\n",
       "    <tr>\n",
       "      <th>761</th>\n",
       "      <td>90</td>\n",
       "      <td>130</td>\n",
       "    </tr>\n",
       "    <tr>\n",
       "      <th>762</th>\n",
       "      <td>110</td>\n",
       "      <td>130</td>\n",
       "    </tr>\n",
       "    <tr>\n",
       "      <th>763</th>\n",
       "      <td>111</td>\n",
       "      <td>130</td>\n",
       "    </tr>\n",
       "  </tbody>\n",
       "</table>\n",
       "<p>764 rows × 2 columns</p>\n",
       "</div>"
      ],
      "text/plain": [
       "     From   To\n",
       "0      11    0\n",
       "1      26    0\n",
       "2      69    0\n",
       "3      71    0\n",
       "4      83    0\n",
       "..    ...  ...\n",
       "759    86  130\n",
       "760    87  130\n",
       "761    90  130\n",
       "762   110  130\n",
       "763   111  130\n",
       "\n",
       "[764 rows x 2 columns]"
      ]
     },
     "execution_count": 40,
     "metadata": {},
     "output_type": "execute_result"
    }
   ],
   "source": [
    "C_eleg = pd.read_csv('Dataset/C-elegans-frontal.txt', sep = ' ', header = 0)\n",
    "C_eleg"
   ]
  },
  {
   "cell_type": "code",
   "execution_count": 41,
   "id": "mexican-measure",
   "metadata": {
    "scrolled": true
   },
   "outputs": [],
   "source": [
    "df = pd.crosstab(C_eleg.From, C_eleg.To)\n",
    "idx = df.columns.union(df.index)\n",
    "adj_C_eleg = df.reindex(index = idx, columns=idx, fill_value=0)\n",
    "get_leading_eigenvalue(adj_C_eleg, lamda_i_val)\n"
   ]
  },
  {
   "cell_type": "code",
   "execution_count": 42,
   "id": "understanding-humanity",
   "metadata": {},
   "outputs": [
    {
     "name": "stdout",
     "output_type": "stream",
     "text": [
      "Number of nodes N: 131\n",
      "Number of edges L: 764\n",
      "Number of basal nodes B: 10\n",
      "Number of basal edges L_B: 44\n",
      "Average in degree:   5.8321\n",
      "\n",
      "Trophic incoherence parameter q:  32.074514592334644\n",
      "Quotient q/q_tilde =  7.929032219799999\n",
      "Quotient s/s_tilde =  3.6202200501207895\n",
      "Quotient alpha/alpha_tilde =  0.9588405322862129\n",
      "Loop exponent tau = 1.7714997034641027\n"
     ]
    }
   ],
   "source": [
    "G_C_ele = nx.convert_matrix.from_pandas_adjacency(adj_C_eleg,create_using=nx.DiGraph)\n",
    "get_main_properties(G_C_ele, q, q_qt, alpha_val, tau_val)\n",
    "\n",
    "#the data is different"
   ]
  },
  {
   "cell_type": "markdown",
   "id": "extended-farming",
   "metadata": {},
   "source": [
    "## data of jhonsshon"
   ]
  },
  {
   "cell_type": "code",
   "execution_count": 185,
   "id": "dimensional-illustration",
   "metadata": {},
   "outputs": [
    {
     "name": "stdout",
     "output_type": "stream",
     "text": [
      "28\n"
     ]
    }
   ],
   "source": [
    "count = 0\n",
    "for i in range(len(adj_)):\n",
    "    if (all(adj_.iloc[i,:].values == 0)):\n",
    "        count +=1\n",
    "        \n",
    "print(count)"
   ]
  },
  {
   "cell_type": "code",
   "execution_count": 206,
   "id": "described-duration",
   "metadata": {},
   "outputs": [],
   "source": [
    "x = np.loadtxt('Network_Data_MJS20/FoodWebs/Coweeta1txt.dat')\n",
    "data = pd.DataFrame(x)\n",
    "x = list(zip(data[0], data[1]))\n",
    "G_ = nx.DiGraph(x)\n",
    "G_.remove_edges_from(nx.selfloop_edges(G_))"
   ]
  },
  {
   "cell_type": "code",
   "execution_count": 211,
   "id": "crazy-snapshot",
   "metadata": {},
   "outputs": [
    {
     "name": "stdout",
     "output_type": "stream",
     "text": [
      "Number of nodes N: 58\n",
      "Number of edges L: 126\n",
      "Number of basal nodes B: 20\n",
      "Number of basal edges L_B: 86\n",
      "Average in degree:   2.1724\n",
      "\n",
      "Trophic incoherence parameter q:  0.5407587036946389\n",
      "Quotient q/q_tilde =  0.7929079061191396\n",
      "Quotient s/s_tilde =  0.9343816695443128\n",
      "Quotient alpha/alpha_tilde =  0.7841269841269841\n",
      "Loop exponent tau = -0.8267605163390813\n"
     ]
    }
   ],
   "source": [
    "get_main_properties(G_, q, q_qt, alpha_val, tau_val)"
   ]
  },
  {
   "cell_type": "code",
   "execution_count": 208,
   "id": "signed-constant",
   "metadata": {},
   "outputs": [
    {
     "name": "stdout",
     "output_type": "stream",
     "text": [
      "[[0 1 1 ... 0 0 0]\n",
      " [0 0 0 ... 0 0 0]\n",
      " [0 0 0 ... 0 0 0]\n",
      " ...\n",
      " [0 0 0 ... 0 0 0]\n",
      " [0 0 0 ... 0 0 0]\n",
      " [0 1 0 ... 0 0 0]]\n"
     ]
    }
   ],
   "source": [
    "A = nx.adjacency_matrix(G_)\n",
    "print(A.todense())"
   ]
  },
  {
   "cell_type": "code",
   "execution_count": 209,
   "id": "unusual-nurse",
   "metadata": {},
   "outputs": [],
   "source": [
    "adj_ = pd.DataFrame(A.todense())"
   ]
  },
  {
   "cell_type": "code",
   "execution_count": 210,
   "id": "wound-honey",
   "metadata": {},
   "outputs": [
    {
     "name": "stdout",
     "output_type": "stream",
     "text": [
      "28\n"
     ]
    }
   ],
   "source": [
    "count = 0\n",
    "for i in range(len(adj_)):\n",
    "    if (all(adj_.iloc[i,:].values == 0)):\n",
    "        count +=1\n",
    "        \n",
    "print(count)"
   ]
  },
  {
   "cell_type": "code",
   "execution_count": 212,
   "id": "nominated-neighborhood",
   "metadata": {},
   "outputs": [
    {
     "name": "stdout",
     "output_type": "stream",
     "text": [
      "Number of nodes N: 58\n",
      "Number of edges L: 126\n",
      "Number of basal nodes B: 28\n",
      "Number of basal edges L_B: 103\n",
      "Average in degree:   2.1724\n",
      "\n",
      "Trophic incoherence parameter q:  0.3031938205494135\n",
      "Quotient q/q_tilde =  0.641615785084238\n",
      "Quotient s/s_tilde =  0.9955474921155669\n",
      "Quotient alpha/alpha_tilde =  1.0766045548654244\n",
      "Loop exponent tau = -3.391888996893059\n"
     ]
    }
   ],
   "source": [
    "df = pd.crosstab(data[1], data[0])\n",
    "idx = df.columns.union(df.index)\n",
    "adj_C_eleg = df.reindex(index = idx, columns=idx, fill_value=0)\n",
    "get_leading_eigenvalue(adj_C_eleg, lamda_i_val)\n",
    "\n",
    "G_C_ele = nx.convert_matrix.from_pandas_adjacency(adj_C_eleg,create_using=nx.DiGraph)\n",
    "get_main_properties(G_C_ele, q, q_qt, alpha_val, tau_val)"
   ]
  },
  {
   "cell_type": "markdown",
   "id": "weird-juice",
   "metadata": {},
   "source": [
    "# loughhyne\n",
    "https://datadryad.org/stash/dataset/doi:10.5061/dryad.1mv20r6"
   ]
  },
  {
   "cell_type": "code",
   "execution_count": 43,
   "id": "complete-operation",
   "metadata": {},
   "outputs": [
    {
     "name": "stdout",
     "output_type": "stream",
     "text": [
      "Number of nodes N: 275\n",
      "Number of edges L: 3483\n",
      "Number of basal nodes B: 39\n",
      "Number of basal edges L_B: 1144\n",
      "Average in degree:  12.6655\n",
      "\n",
      "Trophic incoherence parameter q:  0.5887539311259254\n",
      "Quotient q/q_tilde =  0.41174821136188655\n",
      "Quotient s/s_tilde =  0.6531939613051612\n",
      "Quotient alpha/alpha_tilde =  0.706777204173892\n",
      "Loop exponent tau = 0.748700820589125\n"
     ]
    }
   ],
   "source": [
    "loughhyne_spnames = pd.read_csv('Dataset/loughhyne_spnames.csv', index_col=0)\n",
    "get_leading_eigenvalue(loughhyne_spnames, lamda_i_val)\n",
    "G_loughhyne = nx.convert_matrix.from_pandas_adjacency(loughhyne_spnames,create_using=nx.DiGraph)\n",
    "get_main_properties(G_loughhyne, q, q_qt, alpha_val, tau_val)\n"
   ]
  },
  {
   "cell_type": "markdown",
   "id": "vocational-orchestra",
   "metadata": {},
   "source": [
    "## kongsfjorden_spames"
   ]
  },
  {
   "cell_type": "code",
   "execution_count": 44,
   "id": "indoor-alpha",
   "metadata": {
    "scrolled": true
   },
   "outputs": [
    {
     "name": "stdout",
     "output_type": "stream",
     "text": [
      "Number of nodes N: 262\n",
      "Number of edges L: 1553\n",
      "Number of basal nodes B: 41\n",
      "Number of basal edges L_B: 704\n",
      "Average in degree:   5.9275\n",
      "\n",
      "Trophic incoherence parameter q:  0.4143734011057301\n",
      "Quotient q/q_tilde =  0.3773326228880242\n",
      "Quotient s/s_tilde =  0.7637415602739661\n",
      "Quotient alpha/alpha_tilde =  1.0930180349291656\n",
      "Loop exponent tau = -1.06252114951556\n"
     ]
    }
   ],
   "source": [
    "kongsfjorden_spames = pd.read_csv('Dataset/kongsfjorden_spames.csv', index_col=0)\n",
    "get_leading_eigenvalue(kongsfjorden_spames, lamda_i_val)\n",
    "G_kongsfjorden = nx.convert_matrix.from_pandas_adjacency(kongsfjorden_spames,create_using=nx.DiGraph)\n",
    "get_main_properties(G_kongsfjorden, q, q_qt, alpha_val, tau_val)\n"
   ]
  },
  {
   "cell_type": "markdown",
   "id": "worse-occupation",
   "metadata": {},
   "source": [
    "## reef_spnames"
   ]
  },
  {
   "cell_type": "code",
   "execution_count": 45,
   "id": "quick-crystal",
   "metadata": {},
   "outputs": [
    {
     "name": "stdout",
     "output_type": "stream",
     "text": [
      "Number of nodes N: 247\n",
      "Number of edges L: 3304\n",
      "Number of basal nodes B: 5\n",
      "Number of basal edges L_B: 172\n",
      "Average in degree:  13.3765\n",
      "\n",
      "Trophic incoherence parameter q:  0.727518522043277\n",
      "Quotient q/q_tilde =  0.17048940745435553\n",
      "Quotient s/s_tilde =  0.18585474545918199\n",
      "Quotient alpha/alpha_tilde =  0.7098079961902288\n",
      "Loop exponent tau = 1.3005131971182813\n"
     ]
    }
   ],
   "source": [
    "reef_spnames = pd.read_csv('Dataset/reef_spnames.csv', index_col=0)\n",
    "get_leading_eigenvalue(reef_spnames, lamda_i_val)\n",
    "G_reef = nx.convert_matrix.from_pandas_adjacency(reef_spnames,create_using=nx.DiGraph)\n",
    "get_main_properties(G_reef, q, q_qt, alpha_val, tau_val)"
   ]
  },
  {
   "cell_type": "markdown",
   "id": "significant-consultation",
   "metadata": {},
   "source": [
    "## stmarks_spnames"
   ]
  },
  {
   "cell_type": "code",
   "execution_count": 46,
   "id": "nuclear-jungle",
   "metadata": {},
   "outputs": [
    {
     "name": "stdout",
     "output_type": "stream",
     "text": [
      "Number of nodes N: 142\n",
      "Number of edges L: 1765\n",
      "Number of basal nodes B: 7\n",
      "Number of basal edges L_B: 225\n",
      "Average in degree:  12.4296\n",
      "\n",
      "Trophic incoherence parameter q:  0.4803411644411716\n",
      "Quotient q/q_tilde =  0.18360339404199133\n",
      "Quotient s/s_tilde =  0.354435927625661\n",
      "Quotient alpha/alpha_tilde =  0.7756999374563115\n",
      "Loop exponent tau = 0.08626807079715304\n"
     ]
    }
   ],
   "source": [
    "stmarks_spnames = pd.read_csv('Dataset/stmarks_spnames.csv', index_col=0)\n",
    "get_leading_eigenvalue(stmarks_spnames, lamda_i_val)\n",
    "G_stmarks = nx.convert_matrix.from_pandas_adjacency(stmarks_spnames,create_using=nx.DiGraph)\n",
    "get_main_properties(G_stmarks, q, q_qt, alpha_val, tau_val)"
   ]
  },
  {
   "cell_type": "markdown",
   "id": "champion-neutral",
   "metadata": {},
   "source": [
    "## weddell_spnames"
   ]
  },
  {
   "cell_type": "code",
   "execution_count": 47,
   "id": "valid-invasion",
   "metadata": {},
   "outputs": [
    {
     "name": "stdout",
     "output_type": "stream",
     "text": [
      "Number of nodes N: 488\n",
      "Number of edges L: 15880\n",
      "Number of basal nodes B: 206\n",
      "Number of basal edges L_B: 8352\n",
      "Average in degree:  32.5410\n",
      "\n",
      "Trophic incoherence parameter q:  0.8120617421794699\n",
      "Quotient q/q_tilde =  0.85535123766509\n",
      "Quotient s/s_tilde =  1.069263313038615\n",
      "Quotient alpha/alpha_tilde =  1.1320136143285053\n",
      "Loop exponent tau = 3.2049904466870616\n"
     ]
    }
   ],
   "source": [
    "weddell_spnames = pd.read_csv('Dataset/weddell_spnames.csv', index_col=0)\n",
    "get_leading_eigenvalue(weddell_spnames, lamda_i_val)\n",
    "G_weddell = nx.convert_matrix.from_pandas_adjacency(weddell_spnames,create_using=nx.DiGraph)\n",
    "get_main_properties(G_weddell, q, q_qt, alpha_val, tau_val)"
   ]
  },
  {
   "cell_type": "markdown",
   "id": "spread-example",
   "metadata": {},
   "source": [
    "## ythan_spnames"
   ]
  },
  {
   "cell_type": "code",
   "execution_count": 48,
   "id": "toxic-vehicle",
   "metadata": {},
   "outputs": [
    {
     "name": "stdout",
     "output_type": "stream",
     "text": [
      "Number of nodes N: 88\n",
      "Number of edges L: 388\n",
      "Number of basal nodes B: 4\n",
      "Number of basal edges L_B: 52\n",
      "Average in degree:   4.4091\n",
      "\n",
      "Trophic incoherence parameter q:  0.40110339825167035\n",
      "Quotient q/q_tilde =  0.1577932330448048\n",
      "Quotient s/s_tilde =  0.3335063560552389\n",
      "Quotient alpha/alpha_tilde =  1.0554123711340206\n",
      "Loop exponent tau = -1.5902236008410129\n"
     ]
    }
   ],
   "source": [
    "ythan_spnames = pd.read_csv('Dataset/ythan_spnames.csv', index_col=0)\n",
    "get_leading_eigenvalue(ythan_spnames, lamda_i_val)\n",
    "G_ythan = nx.convert_matrix.from_pandas_adjacency(ythan_spnames,create_using=nx.DiGraph)\n",
    "get_main_properties(G_ythan, q, q_qt, alpha_val, tau_val)"
   ]
  },
  {
   "cell_type": "markdown",
   "id": "dynamic-bulletin",
   "metadata": {},
   "source": [
    "## zebrafish -- To big values but interesting"
   ]
  },
  {
   "cell_type": "code",
   "execution_count": 49,
   "id": "identical-cooling",
   "metadata": {},
   "outputs": [],
   "source": [
    "#adjacency_zebra = np.loadtxt(\"Dataset/adjacency_zebrafish.txt\",dtype='int')"
   ]
  },
  {
   "cell_type": "code",
   "execution_count": 50,
   "id": "retained-statement",
   "metadata": {},
   "outputs": [],
   "source": [
    "#adjacency_zebra = pd.DataFrame(adjacency_zebra)\n",
    "#get_leading_eigenvalue(adjacency_zebra, lamda_i_val)\n"
   ]
  },
  {
   "cell_type": "code",
   "execution_count": 51,
   "id": "discrete-uruguay",
   "metadata": {},
   "outputs": [],
   "source": [
    "#G_zebra= nx.convert_matrix.from_pandas_adjacency(adjacency_zebra,create_using=nx.DiGraph)\n",
    "#get_main_properties(G_zebra, q, q_qt, alpha_val, tau_val)"
   ]
  },
  {
   "cell_type": "code",
   "execution_count": null,
   "id": "subsequent-dictionary",
   "metadata": {},
   "outputs": [],
   "source": []
  },
  {
   "cell_type": "markdown",
   "id": "leading-completion",
   "metadata": {},
   "source": [
    "## Loop exponent $\\tau$ vs leading eigenvalues"
   ]
  },
  {
   "cell_type": "code",
   "execution_count": 55,
   "id": "timely-parameter",
   "metadata": {},
   "outputs": [
    {
     "data": {
      "text/plain": [
       "<matplotlib.collections.PathCollection at 0x1d41c81c088>"
      ]
     },
     "execution_count": 55,
     "metadata": {},
     "output_type": "execute_result"
    },
    {
     "data": {
      "image/png": "[encoded data removed]",
      "text/plain": [
       "<Figure size 432x288 with 1 Axes>"
      ]
     },
     "metadata": {
      "needs_background": "light"
     },
     "output_type": "display_data"
    }
   ],
   "source": [
    "plt.scatter(tau_val, lamda_i_val)"
   ]
  },
  {
   "cell_type": "markdown",
   "id": "economic-bidder",
   "metadata": {},
   "source": [
    "## alpha vs "
   ]
  },
  {
   "cell_type": "code",
   "execution_count": 56,
   "id": "trying-literature",
   "metadata": {},
   "outputs": [],
   "source": [
    "qt = 1/(np.array(q_qt)/np.array(q))"
   ]
  },
  {
   "cell_type": "code",
   "execution_count": 57,
   "id": "chief-requirement",
   "metadata": {},
   "outputs": [
    {
     "data": {
      "text/plain": [
       "array([0.47254732, 0.39528471, 0.33333333, 0.33085866, 0.27972178,\n",
       "       0.26967994, 0.48575205, 0.37431256, 0.33402133, 0.46871843,\n",
       "       0.42960884, 0.41982415, 0.28417603, 0.43643578, 0.55602186,\n",
       "       0.46954493, 0.53095658, 0.46116123, 0.27878344, 0.17793895,\n",
       "       0.19827264, 0.50689688, 0.42842071, 6.2118678 , 4.04519917,\n",
       "       1.42988825, 1.09816479, 4.26723591, 2.61618892, 0.9493898 ,\n",
       "       2.54195564])"
      ]
     },
     "execution_count": 57,
     "metadata": {},
     "output_type": "execute_result"
    }
   ],
   "source": [
    "qt"
   ]
  },
  {
   "cell_type": "code",
   "execution_count": 58,
   "id": "light-rachel",
   "metadata": {},
   "outputs": [],
   "source": [
    "y = 1/(np.array(q)**2) -  1/(np.array(qt)**2)"
   ]
  },
  {
   "cell_type": "code",
   "execution_count": 59,
   "id": "friendly-celebrity",
   "metadata": {},
   "outputs": [],
   "source": [
    "x = np.log(np.array(alpha_val))"
   ]
  },
  {
   "cell_type": "code",
   "execution_count": 60,
   "id": "collaborative-montana",
   "metadata": {},
   "outputs": [
    {
     "data": {
      "text/plain": [
       "<matplotlib.collections.PathCollection at 0x1d41e3e0608>"
      ]
     },
     "execution_count": 60,
     "metadata": {},
     "output_type": "execute_result"
    },
    {
     "data": {
      "image/png": "[encoded data removed]",
      "text/plain": [
       "<Figure size 432x288 with 1 Axes>"
      ]
     },
     "metadata": {
      "needs_background": "light"
     },
     "output_type": "display_data"
    }
   ],
   "source": [
    "plt.scatter(x, y)"
   ]
  },
  {
   "cell_type": "code",
   "execution_count": null,
   "id": "legitimate-elder",
   "metadata": {},
   "outputs": [],
   "source": []
  },
  {
   "cell_type": "code",
   "execution_count": null,
   "id": "competent-softball",
   "metadata": {},
   "outputs": [],
   "source": []
  },
  {
   "cell_type": "code",
   "execution_count": null,
   "id": "recent-interference",
   "metadata": {},
   "outputs": [],
   "source": []
  },
  {
   "cell_type": "markdown",
   "id": "found-dryer",
   "metadata": {},
   "source": [
    "Equivalence of ensembles \n"
   ]
  },
  {
   "cell_type": "code",
   "execution_count": 61,
   "id": "horizontal-glossary",
   "metadata": {},
   "outputs": [],
   "source": [
    "#generate random graph based on the erdos-ren\n",
    "random = nx.erdos_renyi_graph(500, .10)"
   ]
  },
  {
   "cell_type": "code",
   "execution_count": null,
   "id": "armed-collect",
   "metadata": {},
   "outputs": [],
   "source": []
  },
  {
   "cell_type": "code",
   "execution_count": null,
   "id": "sticky-roman",
   "metadata": {},
   "outputs": [],
   "source": []
  }
 ],
 "metadata": {
  "kernelspec": {
   "display_name": "Python 3",
   "language": "python",
   "name": "python3"
  },
  "language_info": {
   "codemirror_mode": {
    "name": "ipython",
    "version": 3
   },
   "file_extension": ".py",
   "mimetype": "text/x-python",
   "name": "python",
   "nbconvert_exporter": "python",
   "pygments_lexer": "ipython3",
   "version": "3.7.9"
  }
 },
 "nbformat": 4,
 "nbformat_minor": 5
}
