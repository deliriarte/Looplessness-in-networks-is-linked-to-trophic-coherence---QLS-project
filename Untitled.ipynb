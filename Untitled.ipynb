{
 "cells": [
  {
   "cell_type": "code",
   "execution_count": 1,
   "id": "understood-argentina",
   "metadata": {},
   "outputs": [],
   "source": [
    "import pandas as pd\n",
    "import seaborn as sns\n",
    "import numpy as np\n",
    "import networkx as nx\n",
    "import matplotlib.pyplot as plt\n",
    "from numpy import linalg as LA\n",
    "import math\n",
    "import random as random"
   ]
  },
  {
   "cell_type": "code",
   "execution_count": null,
   "id": "thirty-compilation",
   "metadata": {},
   "outputs": [],
   "source": []
  },
  {
   "cell_type": "code",
   "execution_count": 2,
   "id": "outside-philosophy",
   "metadata": {},
   "outputs": [],
   "source": [
    "x = np.loadtxt(\"Network_Data_MJS20/FoodWebs/DempstersAutxt.dat\")\n",
    "data = pd.DataFrame(x)\n",
    "x = list(zip(data[1], data[0]))\n",
    "D = nx.DiGraph(x)\n",
    "D.remove_edges_from(nx.selfloop_edges(D))"
   ]
  },
  {
   "cell_type": "code",
   "execution_count": 3,
   "id": "prepared-august",
   "metadata": {},
   "outputs": [
    {
     "name": "stdout",
     "output_type": "stream",
     "text": [
      "0.3706246583305505\n"
     ]
    }
   ],
   "source": [
    "q = nx.trophic_incoherence_parameter(D)\n",
    "\n",
    "N = D.number_of_nodes()\n",
    "L = D.number_of_edges()\n",
    "\n",
    "#Get the basal nodes (in degree = 0 )\n",
    "in_degree = list(D.in_degree())\n",
    "out_degree = list(D.out_degree())\n",
    "\n",
    "#number of basal nodes\n",
    "B = 0\n",
    "\n",
    "#number of basal edges\n",
    "basal_edges = []\n",
    "for i in range(len(in_degree)):\n",
    "    if in_degree[i][1] == 0:\n",
    "        B += 1\n",
    "        basal_edges.append(out_degree[i][1])\n",
    "B\n",
    "L_b = sum(basal_edges)\n",
    "\n",
    "q_tilde = np.sqrt( L / L_b -1)\n",
    "print(q_tilde)"
   ]
  },
  {
   "cell_type": "code",
   "execution_count": 4,
   "id": "needed-universe",
   "metadata": {},
   "outputs": [
    {
     "name": "stdout",
     "output_type": "stream",
     "text": [
      "Number of basal nodes B: 46\n",
      "293\n"
     ]
    }
   ],
   "source": [
    "#in degree sequence\n",
    "din = list(d for n, d in D.in_degree())\n",
    "\n",
    "#out degree sequence\n",
    "dout = list(d for n, d in D.out_degree())\n",
    "\n",
    "# obtain a random graph from the degree sequences\n",
    "D1 = nx.directed_configuration_model(din, dout, create_using = nx.DiGraph)\n",
    "D1 = nx.DiGraph(D1)\n",
    "D1.remove_edges_from(nx.selfloop_edges(D1))\n",
    "\n",
    "L = D1.number_of_edges()\n",
    "\n",
    "#Get the basal nodes (in degree = 0 )\n",
    "in_degree = list(D1.in_degree())\n",
    "out_degree = list(D1.out_degree())\n",
    "    \n",
    "#number of basal nodes\n",
    "B = 0\n",
    "\n",
    "#number of basal edges\n",
    "basal_edges = []\n",
    "for i in range(len(in_degree)):\n",
    "    if in_degree[i][1] == 0:\n",
    "        B += 1\n",
    "        basal_edges.append(out_degree[i][1])\n",
    "\n",
    "print(\"Number of basal nodes B:\", B) ##same as the paper\n",
    "\n",
    "if B != 0:\n",
    "    L_b = sum(basal_edges)\n",
    "else:\n",
    "    print(\"No basal nodes present\")\n",
    "\n",
    "print(L_b)"
   ]
  },
  {
   "cell_type": "code",
   "execution_count": 5,
   "id": "inner-mystery",
   "metadata": {},
   "outputs": [
    {
     "data": {
      "text/plain": [
       "0.4044277698431349"
      ]
     },
     "execution_count": 5,
     "metadata": {},
     "output_type": "execute_result"
    }
   ],
   "source": [
    "q = nx.trophic_incoherence_parameter(D1)\n",
    "q"
   ]
  },
  {
   "cell_type": "code",
   "execution_count": 6,
   "id": "outdoor-albany",
   "metadata": {},
   "outputs": [],
   "source": [
    "basal_nodes=[]\n",
    "for node, indeg in dict(D1.in_degree()).items():  # for name, age in dictionary.iteritems():  (for Python 2.x)\n",
    "    if indeg == 0:\n",
    "        basal_nodes.append(node)"
   ]
  },
  {
   "cell_type": "code",
   "execution_count": 7,
   "id": "elementary-rwanda",
   "metadata": {},
   "outputs": [
    {
     "name": "stdout",
     "output_type": "stream",
     "text": [
      "1 : 19.014749262536874 19\n",
      "26 : 16.421828908554573 18\n",
      "39 : 2.5929203539823007 0\n",
      "40 : 9.507374631268437 10\n",
      "41 : 9.507374631268437 11\n",
      "42 : 8.64306784660767 10\n",
      "44 : 8.64306784660767 10\n",
      "45 : 15.557522123893806 14\n",
      "49 : 2.5929203539823007 3\n",
      "50 : 0.8643067846607669 1\n",
      "51 : 10.371681415929203 10\n",
      "52 : 2.5929203539823007 3\n",
      "53 : 2.5929203539823007 3\n",
      "56 : 2.5929203539823007 3\n",
      "57 : 5.185840707964601 6\n",
      "58 : 2.5929203539823007 2\n",
      "59 : 12.100294985250738 13\n",
      "60 : 9.507374631268437 11\n",
      "62 : 8.64306784660767 8\n",
      "63 : 3.4572271386430677 2\n",
      "64 : 2.5929203539823007 2\n",
      "65 : 0.8643067846607669 0\n",
      "66 : 7.778761061946903 8\n",
      "67 : 16.421828908554573 18\n",
      "68 : 16.421828908554573 17\n",
      "69 : 12.964601769911505 13\n",
      "70 : 0.8643067846607669 0\n",
      "71 : 8.64306784660767 9\n",
      "72 : 9.507374631268437 9\n",
      "73 : 13.828908554572271 11\n",
      "74 : 7.778761061946903 8\n",
      "75 : 1.7286135693215339 2\n",
      "76 : 6.9144542772861355 7\n",
      "77 : 12.964601769911505 12\n",
      "80 : 7.778761061946903 9\n",
      "81 : 6.9144542772861355 6\n",
      "82 : 6.050147492625369 5\n"
     ]
    }
   ],
   "source": [
    "for nonbasal_node, indeg in dict(D1.in_degree()).items():  # for name, age in dictionary.iteritems():  (for Python 2.x)\n",
    "    if indeg != 0: # not a basal node\n",
    "        count=0\n",
    "        for i in basal_nodes:\n",
    "            count+=list(D1.edges()).count((i,nonbasal_node)) # count if it is there or not (1--->2, 2 eats 1)\n",
    "        print(nonbasal_node,\":\",indeg*L_b/L, count)   "
   ]
  },
  {
   "cell_type": "code",
   "execution_count": 8,
   "id": "focal-subsection",
   "metadata": {},
   "outputs": [],
   "source": [
    "def get_Lb_dce(D):\n",
    "    Lb_ensemble = []\n",
    "    directConfig_ensemble_len = 0\n",
    "\n",
    "    while directConfig_ensemble_len != 100:\n",
    "        \n",
    "\n",
    "        #in degree sequence\n",
    "        din = list(d for n, d in D.in_degree())\n",
    "\n",
    "        #out degree sequence\n",
    "        dout = list(d for n, d in D.out_degree())\n",
    "\n",
    "        # obtain a random graph from the degree sequences\n",
    "        D1 = nx.directed_configuration_model(din, dout, create_using = nx.DiGraph, seed=12345)\n",
    "        D1 = nx.DiGraph(D1)\n",
    "        D1.remove_edges_from(nx.selfloop_edges(D1))\n",
    "\n",
    "        L = D1.number_of_edges()\n",
    "\n",
    "        #Get the basal nodes (in degree = 0 )\n",
    "        in_degree = list(D1.in_degree())\n",
    "        out_degree = list(D1.out_degree())\n",
    "\n",
    "        #number of basal nodes\n",
    "        B = 0\n",
    "\n",
    "        #number of basal edges\n",
    "        basal_edges = []\n",
    "        for i in range(len(in_degree)):\n",
    "            if in_degree[i][1] == 0:\n",
    "                B += 1\n",
    "                basal_edges.append(out_degree[i][1])\n",
    "\n",
    "        #print(\"Number of basal nodes B:\", B) ##same as the paper\n",
    "\n",
    "        if B != 0:\n",
    "            L_b = sum(basal_edges)\n",
    "            directConfig_ensemble_len+=1\n",
    "            Lb_ensemble.append(L_b)\n",
    "        \n",
    "        else:\n",
    "            print(\"No basal nodes present\")\n",
    "            #break\n",
    "        #print(L_b)\n",
    "    random.seed(12345)\n",
    "    Lb=random.choice(Lb_ensemble)\n",
    "    return Lb\n",
    "        "
   ]
  },
  {
   "cell_type": "code",
   "execution_count": 9,
   "id": "short-sample",
   "metadata": {},
   "outputs": [
    {
     "data": {
      "text/plain": [
       "295"
      ]
     },
     "execution_count": 9,
     "metadata": {},
     "output_type": "execute_result"
    }
   ],
   "source": [
    "get_Lb_dce(D)"
   ]
  },
  {
   "cell_type": "code",
   "execution_count": null,
   "id": "unsigned-smooth",
   "metadata": {},
   "outputs": [],
   "source": []
  }
 ],
 "metadata": {
  "kernelspec": {
   "display_name": "Python 3",
   "language": "python",
   "name": "python3"
  },
  "language_info": {
   "codemirror_mode": {
    "name": "ipython",
    "version": 3
   },
   "file_extension": ".py",
   "mimetype": "text/x-python",
   "name": "python",
   "nbconvert_exporter": "python",
   "pygments_lexer": "ipython3",
   "version": "3.7.9"
  }
 },
 "nbformat": 4,
 "nbformat_minor": 5
}
