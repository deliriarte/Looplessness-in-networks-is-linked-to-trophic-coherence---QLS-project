{
 "cells": [
  {
   "cell_type": "code",
   "execution_count": 1,
   "id": "separate-contract",
   "metadata": {},
   "outputs": [],
   "source": [
    "import pandas as pd\n",
    "import seaborn as sns\n",
    "import numpy as np\n",
    "import networkx as nx\n",
    "import matplotlib.pyplot as plt"
   ]
  },
  {
   "cell_type": "markdown",
   "id": "divided-andrews",
   "metadata": {},
   "source": [
    "# Food web dataset\n",
    "## Coweeta 1\n",
    "\n",
    "##### https://iwdb.nceas.ucsb.edu/html/thomps_towns.html"
   ]
  },
  {
   "cell_type": "code",
   "execution_count": 2,
   "id": "choice-badge",
   "metadata": {},
   "outputs": [],
   "source": [
    "##read the adjacency matrix\n",
    "coweeta_adjacency = pd.read_excel('Dataset/Coweeta1.xls',index_col=0)"
   ]
  },
  {
   "cell_type": "code",
   "execution_count": 3,
   "id": "nutritional-speech",
   "metadata": {},
   "outputs": [],
   "source": [
    "#The names of the col and index the same (there are some sutil stuffs)\n",
    "coweeta_adjacency.index = coweeta_adjacency.columns ##the names are the same"
   ]
  },
  {
   "cell_type": "code",
   "execution_count": 4,
   "id": "iraqi-progressive",
   "metadata": {},
   "outputs": [],
   "source": [
    "#convert to graph\n",
    "G_coweeta = nx.convert_matrix.from_pandas_adjacency(coweeta_adjacency,create_using=nx.DiGraph)"
   ]
  },
  {
   "cell_type": "code",
   "execution_count": 5,
   "id": "minor-explosion",
   "metadata": {},
   "outputs": [],
   "source": [
    "##tau -- loop exponent\n",
    "def tau(alpha, qtilde, q):\n",
    "    return np.log(alpha) + 1/(2*qtilde**2) -1/(2*q**2)"
   ]
  },
  {
   "cell_type": "code",
   "execution_count": 6,
   "id": "exempt-shell",
   "metadata": {},
   "outputs": [],
   "source": [
    "def get_main_properties(G):\n",
    "    \n",
    "    #number of nodes\n",
    "    N = G.number_of_nodes()\n",
    "    print(\"Number of nodes N:\", N)\n",
    "    \n",
    "    #number of edges\n",
    "    L = G.number_of_edges()\n",
    "    print(\"Number of edges L:\", L)\n",
    "    \n",
    "    #Get the basal nodes (in degree = 0 )\n",
    "    in_degree = list(G.in_degree())\n",
    "    out_degree = list(G.out_degree())\n",
    "    \n",
    "    #number of basal nodes\n",
    "    B = 0\n",
    "    \n",
    "    #number of basal edges\n",
    "    basal_edges = []\n",
    "    for i in range(len(in_degree)):\n",
    "        if in_degree[i][1] == 0:\n",
    "            B += 1\n",
    "            basal_edges.append(out_degree[i][1])\n",
    "            \n",
    "    print(\"Number of basal nodes B:\", B) ##same as the paper\n",
    "    \n",
    "    #L_b\n",
    "    L_b = sum(basal_edges)\n",
    "    print(\"Number of basal edges L_B:\", L_b) ##same as the paper\n",
    "    \n",
    "    #average degree\n",
    "    k = sum(d for n, d in G.in_degree()) / float(N)\n",
    "    print(\"Average in degree: %8.4f\\n\" % k)\n",
    "    \n",
    "    #Compute tropich levels\n",
    "    trophic_levels = nx.algorithms.centrality.trophic_levels(G)\n",
    "    trophic_levels = [(k, v) for k, v in trophic_levels.items()] \n",
    "    s = []\n",
    "    for i in range(len(trophic_levels)):\n",
    "        s.append(trophic_levels[i][1])\n",
    "    \n",
    "    x = np.zeros([len(s), len(s)])\n",
    "\n",
    "    #trophic difference\n",
    "    for i in range (len(s)):\n",
    "        for j in range (len(s)):\n",
    "            x[i, j] = s[i]-s[j]\n",
    "            \n",
    "    #trophic incoherence parameter \n",
    "    q = nx.trophic_incoherence_parameter(G)\n",
    "    q_tilde = np.sqrt( L / L_b -1)\n",
    "    \n",
    "    print(\"Trophic incoherence parameter q: \", q)\n",
    "    #quotient\n",
    "    q_qt = q/q_tilde\n",
    "    \n",
    "    print(\"Quotient q/q_tilde = \", q_qt)\n",
    "    \n",
    "    s_tilde = 1 + (1- B/N)*(L/L_b)\n",
    "    s_st = np.mean(s)/s_tilde\n",
    "    \n",
    "    print(\"Quotient s/s_tilde = \", s_st)\n",
    "\n",
    "    out = dict(G.out_degree())\n",
    "    inn = dict(G.in_degree())\n",
    "    out = list(out.values())\n",
    "    inn = list(inn.values())\n",
    "    \n",
    "    #compute alpha\n",
    "    kinkout =0\n",
    "    for i in range(len(out)):\n",
    "        kinkout += out[i] * inn[i]\n",
    "    \n",
    "    alpha_num = kinkout / float(N)\n",
    "    alpha = alpha_num/k\n",
    "    alpha_tilde = (L - L_b) / (N - B)\n",
    "    a_at = alpha / alpha_tilde ##again correct\n",
    "    \n",
    "    print(\"Quotient alpha/alpha_tilde = \", a_at)\n",
    "\n",
    "    \n",
    "    #compute tau\n",
    "    tauu = tau(alpha, q_tilde, q) ##again correct\n",
    "    print(\"Loop exponent tau =\", tauu)\n",
    "    \n",
    "    \n",
    "    #largest eigenvalue\n",
    "    lambda_i = max(nx.adjacency_spectrum(G))\n",
    "    print(\"Largest eigenvalue =\", lambda_i)\n",
    "    \n",
    "\n",
    "    return N, B, k, q, q_qt, s_st, a_at, tauu, lambda_i"
   ]
  },
  {
   "cell_type": "code",
   "execution_count": 7,
   "id": "accepted-cookie",
   "metadata": {},
   "outputs": [
    {
     "name": "stdout",
     "output_type": "stream",
     "text": [
      "Number of nodes N: 58\n",
      "Number of edges L: 126\n",
      "Number of basal nodes B: 28\n",
      "Number of basal edges L_B: 103\n",
      "Average in degree:   2.1724\n",
      "\n",
      "Trophic incoherence parameter q:  0.3031938205494135\n",
      "Quotient q/q_tilde =  0.641615785084238\n",
      "Quotient s/s_tilde =  0.9955474921155669\n",
      "Quotient alpha/alpha_tilde =  1.0766045548654244\n",
      "Loop exponent tau = -3.391888996893059\n",
      "Largest eigenvalue = 0j\n"
     ]
    }
   ],
   "source": [
    "N_coweta, B_coweta, k_mean_coweta, q_coweta, q_qt_coweta, s_st_coweta, a_at_coweta, tauu_coweta, lambda_i_coweta = get_main_properties(G_coweeta)"
   ]
  },
  {
   "cell_type": "markdown",
   "id": "dietary-better",
   "metadata": {},
   "source": [
    "## Coweeta 17"
   ]
  },
  {
   "cell_type": "code",
   "execution_count": 8,
   "id": "contrary-cuisine",
   "metadata": {},
   "outputs": [],
   "source": [
    "##read the adjacency matrix\n",
    "coweeta_17_adjacency = pd.read_excel('Dataset/Coweeta17.xls',index_col=0)"
   ]
  },
  {
   "cell_type": "code",
   "execution_count": 9,
   "id": "prime-walnut",
   "metadata": {},
   "outputs": [],
   "source": [
    "coweeta_17_adjacency.index = coweeta_17_adjacency.columns ##the names are the same"
   ]
  },
  {
   "cell_type": "code",
   "execution_count": 10,
   "id": "norwegian-layout",
   "metadata": {},
   "outputs": [],
   "source": [
    "G_coweeta_17 = nx.convert_matrix.from_pandas_adjacency(coweeta_17_adjacency,create_using=nx.DiGraph)"
   ]
  },
  {
   "cell_type": "code",
   "execution_count": 11,
   "id": "interracial-valley",
   "metadata": {},
   "outputs": [
    {
     "name": "stdout",
     "output_type": "stream",
     "text": [
      "Number of nodes N: 71\n",
      "Number of edges L: 148\n",
      "Number of basal nodes B: 38\n",
      "Number of basal edges L_B: 128\n",
      "Average in degree:   2.0845\n",
      "\n",
      "Trophic incoherence parameter q:  0.23752666991081006\n",
      "Quotient q/q_tilde =  0.6009002255625147\n",
      "Quotient s/s_tilde =  1.0045233323790437\n",
      "Quotient alpha/alpha_tilde =  1.2486486486486488\n",
      "Loop exponent tau = -5.940988851570817\n",
      "Largest eigenvalue = 0j\n"
     ]
    }
   ],
   "source": [
    "N_coweta_17, B_coweta_17, k_mean_coweta_17, q_coweta_17, q_qt_coweta_17, s_st_coweta_17, a_at_coweta_17, tauu_coweta_17, lambda_i_coweta_17 = get_main_properties(G_coweeta_17)"
   ]
  },
  {
   "cell_type": "markdown",
   "id": "little-certificate",
   "metadata": {},
   "source": [
    "## Berwick"
   ]
  },
  {
   "cell_type": "code",
   "execution_count": 12,
   "id": "romantic-integration",
   "metadata": {},
   "outputs": [
    {
     "name": "stdout",
     "output_type": "stream",
     "text": [
      "Number of nodes N: 79\n",
      "Number of edges L: 240\n",
      "Number of basal nodes B: 37\n",
      "Number of basal edges L_B: 216\n",
      "Average in degree:   3.0380\n",
      "\n",
      "Trophic incoherence parameter q:  0.1755942292142123\n",
      "Quotient q/q_tilde =  0.5267826876426368\n",
      "Quotient s/s_tilde =  1.0193633952254642\n",
      "Quotient alpha/alpha_tilde =  1.0645833333333332\n",
      "Loop exponent tau = -12.213248517849875\n",
      "Largest eigenvalue = 0j\n"
     ]
    }
   ],
   "source": [
    "berwick_adjacency = pd.read_excel('Dataset/Berwick.xls',index_col=0)\n",
    "berwick_adjacency.index = berwick_adjacency.columns ##the names are the same\n",
    "G_berwick = nx.convert_matrix.from_pandas_adjacency(berwick_adjacency,create_using=nx.DiGraph)\n",
    "N_berw, B_berw, k_berw, q_berw, q_berw, s_st_berw, a_at_berw, tauu_berw, lambda_i_berw = get_main_properties(G_berwick)"
   ]
  },
  {
   "cell_type": "markdown",
   "id": "positive-arabic",
   "metadata": {},
   "source": [
    "## Blackrock"
   ]
  },
  {
   "cell_type": "code",
   "execution_count": 13,
   "id": "published-amino",
   "metadata": {},
   "outputs": [],
   "source": [
    "def from_dataset(file):\n",
    "    adjacency = pd.read_excel(file,index_col=0)\n",
    "    adjacency.index = adjacency.columns ##the names are the same\n",
    "    G_ = nx.convert_matrix.from_pandas_adjacency(adjacency,create_using=nx.DiGraph)\n",
    "    return G_"
   ]
  },
  {
   "cell_type": "code",
   "execution_count": 14,
   "id": "tropical-territory",
   "metadata": {},
   "outputs": [
    {
     "name": "stdout",
     "output_type": "stream",
     "text": [
      "Number of nodes N: 87\n",
      "Number of edges L: 375\n",
      "Number of basal nodes B: 50\n",
      "Number of basal edges L_B: 338\n",
      "Average in degree:   4.3103\n",
      "\n",
      "Trophic incoherence parameter q:  0.18684423703785832\n",
      "Quotient q/q_tilde =  0.5647252355820788\n",
      "Quotient s/s_tilde =  1.0089619503688232\n",
      "Quotient alpha/alpha_tilde =  1.2746666666666666\n",
      "Loop exponent tau = -9.511975953768433\n",
      "Largest eigenvalue = 0j\n"
     ]
    }
   ],
   "source": [
    "G_blackrock = from_dataset('Dataset/Blackrock.xls')\n",
    "N_black, B_black, k_black, q_black, q_black, s_st_black, a_at_black, tauu_black, lambda_i_black = get_main_properties(G_blackrock)"
   ]
  },
  {
   "cell_type": "markdown",
   "id": "palestinian-establishment",
   "metadata": {},
   "source": [
    "## Broad"
   ]
  },
  {
   "cell_type": "code",
   "execution_count": 15,
   "id": "checked-hepatitis",
   "metadata": {},
   "outputs": [
    {
     "name": "stdout",
     "output_type": "stream",
     "text": [
      "Number of nodes N: 95\n",
      "Number of edges L: 565\n",
      "Number of basal nodes B: 54\n",
      "Number of basal edges L_B: 524\n",
      "Average in degree:   5.9474\n",
      "\n",
      "Trophic incoherence parameter q:  0.13659366589298672\n",
      "Quotient q/q_tilde =  0.48831973458351957\n",
      "Quotient s/s_tilde =  1.0391608811596473\n",
      "Quotient alpha/alpha_tilde =  1.1734513274336282\n",
      "Loop exponent tau = -20.248207924576306\n",
      "Largest eigenvalue = (1+0j)\n"
     ]
    }
   ],
   "source": [
    "G_broad = from_dataset('Dataset/Broad.xls')\n",
    "N_broad, B_broad, k_broad, q_broad, q_broad, s_st_broad, a_at_broad, tauu_broad, lambda_i_broad = get_main_properties(G_broad)"
   ]
  },
  {
   "cell_type": "markdown",
   "id": "quantitative-zoning",
   "metadata": {},
   "source": [
    "## This one has the largest eigenvalue diff (check)"
   ]
  },
  {
   "cell_type": "markdown",
   "id": "roman-transport",
   "metadata": {},
   "source": [
    "## Canton"
   ]
  },
  {
   "cell_type": "code",
   "execution_count": 16,
   "id": "northern-honduras",
   "metadata": {},
   "outputs": [
    {
     "name": "stdout",
     "output_type": "stream",
     "text": [
      "Number of nodes N: 109\n",
      "Number of edges L: 708\n",
      "Number of basal nodes B: 57\n",
      "Number of basal edges L_B: 660\n",
      "Average in degree:   6.4954\n",
      "\n",
      "Trophic incoherence parameter q:  0.1509423281557914\n",
      "Quotient q/q_tilde =  0.5597091328538385\n",
      "Quotient s/s_tilde =  1.004783944923397\n",
      "Quotient alpha/alpha_tilde =  1.2944915254237286\n",
      "Loop exponent tau = -14.892547806036713\n",
      "Largest eigenvalue = (1+0j)\n"
     ]
    }
   ],
   "source": [
    "canton_adjacency = pd.read_excel('Dataset/Canton.xls',index_col=0)\n",
    "canton_adjacency.drop('Unnamed: 110', inplace=True, axis=1)\n",
    "canton_adjacency.index = canton_adjacency.columns ##the names are the same\n",
    "G_canton = nx.convert_matrix.from_pandas_adjacency(canton_adjacency,create_using=nx.DiGraph)\n",
    "N_canton, B_canton, k_canton, q_canton, q_canton, s_st_canton, a_at_canton, tauu_canton, lambda_i_canton = get_main_properties(G_canton)"
   ]
  },
  {
   "cell_type": "markdown",
   "id": "comparable-anniversary",
   "metadata": {},
   "source": [
    "## This one has the largest eigenvalue diff (check)\n",
    "\n",
    "## Catlins"
   ]
  },
  {
   "cell_type": "code",
   "execution_count": 17,
   "id": "monthly-philippines",
   "metadata": {},
   "outputs": [
    {
     "name": "stdout",
     "output_type": "stream",
     "text": [
      "Number of nodes N: 49\n",
      "Number of edges L: 110\n",
      "Number of basal nodes B: 15\n",
      "Number of basal edges L_B: 89\n",
      "Average in degree:   2.2449\n",
      "\n",
      "Trophic incoherence parameter q:  0.19968984214989816\n",
      "Quotient q/q_tilde =  0.4110941812001329\n",
      "Quotient s/s_tilde =  0.960951509914601\n",
      "Quotient alpha/alpha_tilde =  1.000865800865801\n",
      "Loop exponent tau = -10.90078514519563\n",
      "Largest eigenvalue = 0j\n"
     ]
    }
   ],
   "source": [
    "G_catlins = from_dataset('Dataset/Catlins.xls')\n",
    "N_cat, B_cat, k_cat, q_cat, q_cat, s_st_cat, a_at_cat, tauu_cat, lambda_i_cat = get_main_properties(G_catlins)"
   ]
  },
  {
   "cell_type": "markdown",
   "id": "athletic-dinner",
   "metadata": {},
   "source": [
    "## Dempsters (AU)"
   ]
  },
  {
   "cell_type": "code",
   "execution_count": 18,
   "id": "virtual-tunisia",
   "metadata": {},
   "outputs": [
    {
     "name": "stdout",
     "output_type": "stream",
     "text": [
      "Number of nodes N: 86\n",
      "Number of edges L: 415\n",
      "Number of basal nodes B: 49\n",
      "Number of basal edges L_B: 364\n",
      "Average in degree:   4.8256\n",
      "\n",
      "Trophic incoherence parameter q:  0.20969008507775394\n",
      "Quotient q/q_tilde =  0.5602005097597508\n",
      "Quotient s/s_tilde =  1.036012424263351\n",
      "Quotient alpha/alpha_tilde =  1.0086935979210963\n",
      "Loop exponent tau = -7.473216029450411\n",
      "Largest eigenvalue = (1+0j)\n"
     ]
    }
   ],
   "source": [
    "G_demp_au = from_dataset('Dataset/DempstersAu.xls')\n",
    "N_demp_au, B_demp_au, k_demp_au, q_demp_au, q_demp_au, s_st_demp_au, a_at_demp_au, tauu_demp_au, lambda_i_demp_au = get_main_properties(G_demp_au)"
   ]
  },
  {
   "cell_type": "markdown",
   "id": "separated-cyprus",
   "metadata": {},
   "source": [
    "\n",
    "## This one has the largest eigenvalue diff (check)\n",
    "\n",
    "## Dempsters (Sp)"
   ]
  },
  {
   "cell_type": "code",
   "execution_count": 19,
   "id": "neutral-consumption",
   "metadata": {},
   "outputs": [
    {
     "name": "stdout",
     "output_type": "stream",
     "text": [
      "Number of nodes N: 97\n",
      "Number of edges L: 538\n",
      "Number of basal nodes B: 54\n",
      "Number of basal edges L_B: 484\n",
      "Average in degree:   5.5464\n",
      "\n",
      "Trophic incoherence parameter q:  0.12522725670082951\n",
      "Quotient q/q_tilde =  0.3749079654290153\n",
      "Quotient s/s_tilde =  1.015084526433501\n",
      "Quotient alpha/alpha_tilde =  1.1115585846069118\n",
      "Loop exponent tau = -27.068932539268054\n",
      "Largest eigenvalue = 0j\n"
     ]
    }
   ],
   "source": [
    "G_demp_sp = from_dataset('Dataset/DempstersSp.xls')\n",
    "N_demp_sp, B_demp_sp, k_demp_sp, q_demp_sp, q_demp_sp, s_st_demp_sp, a_at_demp_sp, tauu_demp_sp, lambda_i_demp_sp = get_main_properties(G_demp_sp)"
   ]
  },
  {
   "cell_type": "markdown",
   "id": "arctic-roller",
   "metadata": {},
   "source": [
    "\n",
    "## This one has the largest eigenvalue diff (check)\n",
    "\n",
    "## Dempsters (Su)"
   ]
  },
  {
   "cell_type": "code",
   "execution_count": 20,
   "id": "existing-movie",
   "metadata": {},
   "outputs": [
    {
     "name": "stdout",
     "output_type": "stream",
     "text": [
      "Number of nodes N: 107\n",
      "Number of edges L: 966\n",
      "Number of basal nodes B: 50\n",
      "Number of basal edges L_B: 792\n",
      "Average in degree:   9.0280\n",
      "\n",
      "Trophic incoherence parameter q:  0.2684292787412525\n",
      "Quotient q/q_tilde =  0.5726876941077912\n",
      "Quotient s/s_tilde =  1.0472435207695199\n",
      "Quotient alpha/alpha_tilde =  1.0309131148711357\n",
      "Loop exponent tau = -3.5169022425700636\n",
      "Largest eigenvalue = (1+0j)\n"
     ]
    }
   ],
   "source": [
    "G_demp_su = from_dataset('Dataset/DempstersSu.xls')\n",
    "N_demp_su, B_demp_su, k_demp_su, q_demp_su, q_demp_su, s_st_demp_su, a_at_demp_su, tauu_demp_su, lambda_i_demp_su = get_main_properties(G_demp_su)"
   ]
  },
  {
   "cell_type": "markdown",
   "id": "several-carter",
   "metadata": {},
   "source": [
    "\n",
    "## This one has the largest eigenvalue diff (check)\n",
    "\n",
    "## German"
   ]
  },
  {
   "cell_type": "code",
   "execution_count": 21,
   "id": "bibliographic-tension",
   "metadata": {},
   "outputs": [
    {
     "name": "stdout",
     "output_type": "stream",
     "text": [
      "Number of nodes N: 86\n",
      "Number of edges L: 353\n",
      "Number of basal nodes B: 50\n",
      "Number of basal edges L_B: 298\n",
      "Average in degree:   4.1047\n",
      "\n",
      "Trophic incoherence parameter q:  0.1991039107184075\n",
      "Quotient q/q_tilde =  0.4634539389583854\n",
      "Quotient s/s_tilde =  0.9917043109472735\n",
      "Quotient alpha/alpha_tilde =  1.1014164305949008\n",
      "Loop exponent tau = -9.383266301115496\n",
      "Largest eigenvalue = (1+0j)\n"
     ]
    }
   ],
   "source": [
    "G_german = from_dataset('Dataset/German.xls')\n",
    "N_german, B_german, k_german, q_german, q_german, s_st_german, a_at_german, tauu_german, lambda_i_german = get_main_properties(G_german)"
   ]
  },
  {
   "cell_type": "markdown",
   "id": "animated-weapon",
   "metadata": {},
   "source": [
    "## Healy"
   ]
  },
  {
   "cell_type": "code",
   "execution_count": 22,
   "id": "polish-cigarette",
   "metadata": {},
   "outputs": [
    {
     "name": "stdout",
     "output_type": "stream",
     "text": [
      "Number of nodes N: 96\n",
      "Number of edges L: 634\n",
      "Number of basal nodes B: 47\n",
      "Number of basal edges L_B: 539\n",
      "Average in degree:   6.6042\n",
      "\n",
      "Trophic incoherence parameter q:  0.22416442895993596\n",
      "Quotient q/q_tilde =  0.5339483866510883\n",
      "Quotient s/s_tilde =  1.0323751752307737\n",
      "Quotient alpha/alpha_tilde =  1.1186285904034534\n",
      "Loop exponent tau = -6.339307740504225\n",
      "Largest eigenvalue = 0j\n"
     ]
    }
   ],
   "source": [
    "G_Healy = from_dataset('Dataset/Healy.xls')\n",
    "N_Healy, B_Healy, k_Healy, q_Healy, q_Healy, s_st_Healy, a_at_Healy, tauu_Healy, lambda_i_Healy = get_main_properties(G_Healy)"
   ]
  },
  {
   "cell_type": "markdown",
   "id": "pressed-james",
   "metadata": {},
   "source": [
    "## Kyeburn"
   ]
  },
  {
   "cell_type": "code",
   "execution_count": 23,
   "id": "incorporate-berlin",
   "metadata": {},
   "outputs": [
    {
     "name": "stdout",
     "output_type": "stream",
     "text": [
      "Number of nodes N: 98\n",
      "Number of edges L: 629\n",
      "Number of basal nodes B: 58\n",
      "Number of basal edges L_B: 582\n",
      "Average in degree:   6.4184\n",
      "\n",
      "Trophic incoherence parameter q:  0.17728603595586254\n",
      "Quotient q/q_tilde =  0.6238599309712293\n",
      "Quotient s/s_tilde =  1.0223160361728243\n",
      "Quotient alpha/alpha_tilde =  1.177147109562629\n",
      "Loop exponent tau = -9.39234513134631\n",
      "Largest eigenvalue = 0j\n"
     ]
    }
   ],
   "source": [
    "G_Kye = from_dataset('Dataset/Kyeburn.xls')\n",
    "N_Kye, B_Kye, k_Kye, q_Kye, q_Kye, s_st_Kye, a_at_Kye, tauu_Kye, lambda_i_Kye = get_main_properties(G_Kye)"
   ]
  },
  {
   "cell_type": "markdown",
   "id": "occupational-haiti",
   "metadata": {},
   "source": [
    "## LilKyeburn"
   ]
  },
  {
   "cell_type": "code",
   "execution_count": 24,
   "id": "transsexual-feature",
   "metadata": {},
   "outputs": [
    {
     "name": "stdout",
     "output_type": "stream",
     "text": [
      "Number of nodes N: 78\n",
      "Number of edges L: 375\n",
      "Number of basal nodes B: 42\n",
      "Number of basal edges L_B: 315\n",
      "Average in degree:   4.8077\n",
      "\n",
      "Trophic incoherence parameter q:  0.23304938172654618\n",
      "Quotient q/q_tilde =  0.5339832162122782\n",
      "Quotient s/s_tilde =  1.0129883846343657\n",
      "Quotient alpha/alpha_tilde =  1.1024\n",
      "Loop exponent tau = -5.9727509675867205\n",
      "Largest eigenvalue = 0j\n"
     ]
    }
   ],
   "source": [
    "G_lilKye = from_dataset('Dataset/LilKyeburn.xls')\n",
    "N_lilKye, B_lilKye, k_lilKye, q_lilKye, q_lilKye, s_st_lilKye, a_at_lilKye, tauu_lilKye, lambda_i_lilKye = get_main_properties(G_lilKye)"
   ]
  },
  {
   "cell_type": "markdown",
   "id": "stopped-woman",
   "metadata": {},
   "source": [
    "## Martin"
   ]
  },
  {
   "cell_type": "code",
   "execution_count": 25,
   "id": "monetary-telescope",
   "metadata": {},
   "outputs": [
    {
     "name": "stdout",
     "output_type": "stream",
     "text": [
      "Number of nodes N: 105\n",
      "Number of edges L: 343\n",
      "Number of basal nodes B: 48\n",
      "Number of basal edges L_B: 262\n",
      "Average in degree:   3.2667\n",
      "\n",
      "Trophic incoherence parameter q:  0.3241134072690224\n",
      "Quotient q/q_tilde =  0.5829148679149672\n",
      "Quotient s/s_tilde =  0.9890172049133403\n",
      "Quotient alpha/alpha_tilde =  1.2555879494655005\n",
      "Loop exponent tau = -2.5633751008349748\n",
      "Largest eigenvalue = 0j\n"
     ]
    }
   ],
   "source": [
    "G_mar = from_dataset('Dataset/Martins.xls')\n",
    "N_mar, B_mar, k_mar, q_mar, q_mar, s_st_mar, a_at_mar, tauu_mar, lambda_i_mar= get_main_properties(G_mar)"
   ]
  },
  {
   "cell_type": "markdown",
   "id": "reported-contrast",
   "metadata": {},
   "source": [
    "## Narrowdale"
   ]
  },
  {
   "cell_type": "code",
   "execution_count": 26,
   "id": "czech-plasma",
   "metadata": {},
   "outputs": [
    {
     "name": "stdout",
     "output_type": "stream",
     "text": [
      "Number of nodes N: 71\n",
      "Number of edges L: 155\n",
      "Number of basal nodes B: 28\n",
      "Number of basal edges L_B: 127\n",
      "Average in degree:   2.1831\n",
      "\n",
      "Trophic incoherence parameter q:  0.2298120491976761\n",
      "Quotient q/q_tilde =  0.48943569548684096\n",
      "Quotient s/s_tilde =  0.9806904344018776\n",
      "Quotient alpha/alpha_tilde =  1.1988479262672809\n",
      "Loop exponent tau = -7.4470398133854\n",
      "Largest eigenvalue = (1+0j)\n"
     ]
    }
   ],
   "source": [
    "G_narr = from_dataset('Dataset/Narrowdale.xls')\n",
    "N_narr, B_narr, k_narr, q_narr, q_narr, s_st_narr, a_at_narr, tauu_narr, lambda_i_narr= get_main_properties(G_narr)"
   ]
  },
  {
   "cell_type": "markdown",
   "id": "reported-thread",
   "metadata": {},
   "source": [
    "## North col"
   ]
  },
  {
   "cell_type": "code",
   "execution_count": 27,
   "id": "excess-moses",
   "metadata": {},
   "outputs": [
    {
     "name": "stdout",
     "output_type": "stream",
     "text": [
      "Number of nodes N: 78\n",
      "Number of edges L: 241\n",
      "Number of basal nodes B: 25\n",
      "Number of basal edges L_B: 188\n",
      "Average in degree:   3.0897\n",
      "\n",
      "Trophic incoherence parameter q:  0.27525066221679273\n",
      "Quotient q/q_tilde =  0.5184052156873364\n",
      "Quotient s/s_tilde =  0.9777312233142863\n",
      "Quotient alpha/alpha_tilde =  1.3609958506224067\n",
      "Loop exponent tau = -4.517732247710931\n",
      "Largest eigenvalue = 0j\n"
     ]
    }
   ],
   "source": [
    "G_norco = from_dataset('Dataset/NorthCol.xls')\n",
    "N_norco, B_norco, k_norco, q_norco, q_norco, s_st_norco, a_at_norco, tauu_norco, lambda_i_norco= get_main_properties(G_norco)"
   ]
  },
  {
   "cell_type": "markdown",
   "id": "olympic-happiness",
   "metadata": {},
   "source": [
    "## powder"
   ]
  },
  {
   "cell_type": "code",
   "execution_count": 28,
   "id": "solid-birth",
   "metadata": {},
   "outputs": [
    {
     "name": "stdout",
     "output_type": "stream",
     "text": [
      "Number of nodes N: 78\n",
      "Number of edges L: 268\n",
      "Number of basal nodes B: 32\n",
      "Number of basal edges L_B: 221\n",
      "Average in degree:   3.4359\n",
      "\n",
      "Trophic incoherence parameter q:  0.2150987375016637\n",
      "Quotient q/q_tilde =  0.46642848940699144\n",
      "Quotient s/s_tilde =  0.9906582186584975\n",
      "Quotient alpha/alpha_tilde =  1.1248015242934266\n",
      "Loop exponent tau = -8.316552885769664\n",
      "Largest eigenvalue = 0j\n"
     ]
    }
   ],
   "source": [
    "G_pow = from_dataset('Dataset/Powder.xls')\n",
    "N_pow, B_pow, k_pow, q_pow, q_pow, s_st_pow, a_at_pow, tauu_pow, lambda_i_pow= get_main_properties(G_pow)"
   ]
  },
  {
   "cell_type": "markdown",
   "id": "surrounded-recycling",
   "metadata": {},
   "source": [
    "## Stony"
   ]
  },
  {
   "cell_type": "code",
   "execution_count": 29,
   "id": "respected-building",
   "metadata": {},
   "outputs": [
    {
     "name": "stdout",
     "output_type": "stream",
     "text": [
      "Number of nodes N: 113\n",
      "Number of edges L: 832\n",
      "Number of basal nodes B: 64\n",
      "Number of basal edges L_B: 772\n",
      "Average in degree:   7.3628\n",
      "\n",
      "Trophic incoherence parameter q:  0.1517787292748646\n",
      "Quotient q/q_tilde =  0.5444323682170558\n",
      "Quotient s/s_tilde =  1.0336399023639016\n",
      "Quotient alpha/alpha_tilde =  1.1513822115384615\n",
      "Loop exponent tau = -14.927598985024083\n",
      "Largest eigenvalue = (1+0j)\n"
     ]
    }
   ],
   "source": [
    "G_sto = from_dataset('Dataset/Stony.xls')\n",
    "N_sto, B_sto, k_sto, q_sto, q_sto, s_st_v, a_at_sto, tauu_sto, lambda_i_sto= get_main_properties(G_sto)"
   ]
  },
  {
   "cell_type": "markdown",
   "id": "protected-irish",
   "metadata": {},
   "source": [
    "## Sutton Sp"
   ]
  },
  {
   "cell_type": "code",
   "execution_count": 30,
   "id": "talented-xerox",
   "metadata": {},
   "outputs": [
    {
     "name": "stdout",
     "output_type": "stream",
     "text": [
      "Number of nodes N: 79\n",
      "Number of edges L: 391\n",
      "Number of basal nodes B: 55\n",
      "Number of basal edges L_B: 379\n",
      "Average in degree:   4.9494\n",
      "\n",
      "Trophic incoherence parameter q:  0.09975193015843092\n",
      "Quotient q/q_tilde =  0.5605963810351147\n",
      "Quotient s/s_tilde =  1.0077352193261284\n",
      "Quotient alpha/alpha_tilde =  1.1457800511508953\n",
      "Loop exponent tau = -35.0143908253994\n",
      "Largest eigenvalue = 0j\n"
     ]
    }
   ],
   "source": [
    "G_sutsp = from_dataset('Dataset/SuttonSp.xls')\n",
    "N_sutsp, B_sutsp, k_sutsp, q_sutsp, q_sutsp, s_st_sutsp, a_at_sutsp, tauu_sutsp, lambda_i_sutsp= get_main_properties(G_sutsp)"
   ]
  },
  {
   "cell_type": "markdown",
   "id": "third-refrigerator",
   "metadata": {},
   "source": [
    " ## sutton Su"
   ]
  },
  {
   "cell_type": "code",
   "execution_count": 31,
   "id": "organized-conservative",
   "metadata": {},
   "outputs": [],
   "source": [
    "sutsu_adjacency = pd.read_excel('Dataset/SuttonSu.xls',index_col=0)\n",
    "sutsu_adjacency =sutsu_adjacency.dropna()"
   ]
  },
  {
   "cell_type": "code",
   "execution_count": 32,
   "id": "provincial-berkeley",
   "metadata": {},
   "outputs": [
    {
     "name": "stdout",
     "output_type": "stream",
     "text": [
      "Number of nodes N: 92\n",
      "Number of edges L: 423\n",
      "Number of basal nodes B: 69\n",
      "Number of basal edges L_B: 407\n",
      "Average in degree:   4.5978\n",
      "\n",
      "Trophic incoherence parameter q:  0.1452394510179608\n",
      "Quotient q/q_tilde =  0.7325239219525284\n",
      "Quotient s/s_tilde =  1.0072930251486816\n",
      "Quotient alpha/alpha_tilde =  1.0806737588652482\n",
      "Loop exponent tau = -11.269433830563253\n",
      "Largest eigenvalue = 0j\n"
     ]
    }
   ],
   "source": [
    "sutsu_adjacency.index = sutsu_adjacency.columns ##the names are the same\n",
    "G_sutsu = nx.convert_matrix.from_pandas_adjacency(sutsu_adjacency,create_using=nx.DiGraph)\n",
    "N_sutsu, B_sutsu, k_sutsu, q_sutsu, q_sutsu, s_st_sutsu, a_at_sutsu, tauu_sutsu, lambda_i_sutsu= get_main_properties(G_sutsu)"
   ]
  },
  {
   "cell_type": "markdown",
   "id": "sorted-taste",
   "metadata": {},
   "source": [
    "## the previous one has strange tau\n",
    "## Troy"
   ]
  },
  {
   "cell_type": "code",
   "execution_count": 33,
   "id": "written-jewel",
   "metadata": {},
   "outputs": [
    {
     "name": "stdout",
     "output_type": "stream",
     "text": [
      "Number of nodes N: 78\n",
      "Number of edges L: 181\n",
      "Number of basal nodes B: 41\n",
      "Number of basal edges L_B: 144\n",
      "Average in degree:   2.3205\n",
      "\n",
      "Trophic incoherence parameter q:  0.18742253930503422\n",
      "Quotient q/q_tilde =  0.3697449079193538\n",
      "Quotient s/s_tilde =  0.9913919720378531\n",
      "Quotient alpha/alpha_tilde =  1.138121546961326\n",
      "Loop exponent tau = -12.15865549905457\n",
      "Largest eigenvalue = 0j\n"
     ]
    }
   ],
   "source": [
    "G_troy = from_dataset('Dataset/Troy.xls')\n",
    "N_troy, B_troy, k_troy, q_troy, q_troy, s_st_troy, a_at_troy, tauu_troy, lambda_i_troy= get_main_properties(G_troy)"
   ]
  },
  {
   "cell_type": "markdown",
   "id": "studied-theorem",
   "metadata": {},
   "source": [
    "## Venlaw"
   ]
  },
  {
   "cell_type": "code",
   "execution_count": 34,
   "id": "ongoing-narrative",
   "metadata": {},
   "outputs": [
    {
     "name": "stdout",
     "output_type": "stream",
     "text": [
      "Number of nodes N: 69\n",
      "Number of edges L: 187\n",
      "Number of basal nodes B: 33\n",
      "Number of basal edges L_B: 158\n",
      "Average in degree:   2.7101\n",
      "\n",
      "Trophic incoherence parameter q:  0.22906396021247372\n",
      "Quotient q/q_tilde =  0.534670606402672\n",
      "Quotient s/s_tilde =  1.0085689221990084\n",
      "Quotient alpha/alpha_tilde =  1.3475935828877006\n",
      "Loop exponent tau = -6.722965422500218\n",
      "Largest eigenvalue = 0j\n"
     ]
    }
   ],
   "source": [
    "G_ven = from_dataset('Dataset/Venlaw.xls')\n",
    "N_ven, B_ven, k_ven, q_ven, q_ven, s_st_ven, a_at_ven, tauu_ven, lambda_i_ven= get_main_properties(G_ven)"
   ]
  },
  {
   "cell_type": "markdown",
   "id": "outer-poverty",
   "metadata": {},
   "source": [
    "# network p2p"
   ]
  },
  {
   "cell_type": "code",
   "execution_count": 48,
   "id": "center-catalog",
   "metadata": {},
   "outputs": [
    {
     "name": "stdout",
     "output_type": "stream",
     "text": [
      "Number of nodes N: 6301\n",
      "Number of edges L: 20777\n",
      "Number of basal nodes B: 80\n",
      "Number of basal edges L_B: 688\n",
      "Average in degree:   3.2974\n",
      "\n"
     ]
    },
    {
     "ename": "KeyboardInterrupt",
     "evalue": "",
     "output_type": "error",
     "traceback": [
      "\u001b[1;31m---------------------------------------------------------------------------\u001b[0m",
      "\u001b[1;31mKeyboardInterrupt\u001b[0m                         Traceback (most recent call last)",
      "\u001b[1;32m<ipython-input-48-e9358b9c5272>\u001b[0m in \u001b[0;36m<module>\u001b[1;34m\u001b[0m\n\u001b[0;32m      1\u001b[0m \u001b[0mG_p2p\u001b[0m \u001b[1;33m=\u001b[0m \u001b[0mnx\u001b[0m\u001b[1;33m.\u001b[0m\u001b[0mread_edgelist\u001b[0m\u001b[1;33m(\u001b[0m\u001b[1;34m\"p2p-Gnutella08.txt\"\u001b[0m\u001b[1;33m,\u001b[0m\u001b[0mcreate_using\u001b[0m\u001b[1;33m=\u001b[0m\u001b[0mnx\u001b[0m\u001b[1;33m.\u001b[0m\u001b[0mDiGraph\u001b[0m\u001b[1;33m(\u001b[0m\u001b[1;33m)\u001b[0m\u001b[1;33m,\u001b[0m \u001b[0mnodetype\u001b[0m \u001b[1;33m=\u001b[0m \u001b[0mint\u001b[0m\u001b[1;33m)\u001b[0m\u001b[1;33m\u001b[0m\u001b[1;33m\u001b[0m\u001b[0m\n\u001b[1;32m----> 2\u001b[1;33m \u001b[0mN_p2p\u001b[0m\u001b[1;33m,\u001b[0m \u001b[0mB_p2p\u001b[0m\u001b[1;33m,\u001b[0m \u001b[0mk_p2p\u001b[0m\u001b[1;33m,\u001b[0m \u001b[0mq_p2p\u001b[0m\u001b[1;33m,\u001b[0m \u001b[0mq_p2p\u001b[0m\u001b[1;33m,\u001b[0m \u001b[0ms_st_p2p\u001b[0m\u001b[1;33m,\u001b[0m \u001b[0ma_at_p2p\u001b[0m\u001b[1;33m,\u001b[0m \u001b[0mtauu_p2p\u001b[0m\u001b[1;33m,\u001b[0m \u001b[0mlambda_i_p2p\u001b[0m\u001b[1;33m=\u001b[0m \u001b[0mget_main_properties\u001b[0m\u001b[1;33m(\u001b[0m\u001b[0mG_p2p\u001b[0m\u001b[1;33m)\u001b[0m\u001b[1;33m\u001b[0m\u001b[1;33m\u001b[0m\u001b[0m\n\u001b[0m",
      "\u001b[1;32m<ipython-input-6-a5c06e023350>\u001b[0m in \u001b[0;36mget_main_properties\u001b[1;34m(G)\u001b[0m\n\u001b[0;32m     48\u001b[0m \u001b[1;33m\u001b[0m\u001b[0m\n\u001b[0;32m     49\u001b[0m     \u001b[1;31m#trophic incoherence parameter\u001b[0m\u001b[1;33m\u001b[0m\u001b[1;33m\u001b[0m\u001b[1;33m\u001b[0m\u001b[0m\n\u001b[1;32m---> 50\u001b[1;33m     \u001b[0mq\u001b[0m \u001b[1;33m=\u001b[0m \u001b[0mnx\u001b[0m\u001b[1;33m.\u001b[0m\u001b[0mtrophic_incoherence_parameter\u001b[0m\u001b[1;33m(\u001b[0m\u001b[0mG\u001b[0m\u001b[1;33m)\u001b[0m\u001b[1;33m\u001b[0m\u001b[1;33m\u001b[0m\u001b[0m\n\u001b[0m\u001b[0;32m     51\u001b[0m     \u001b[0mq_tilde\u001b[0m \u001b[1;33m=\u001b[0m \u001b[0mnp\u001b[0m\u001b[1;33m.\u001b[0m\u001b[0msqrt\u001b[0m\u001b[1;33m(\u001b[0m \u001b[0mL\u001b[0m \u001b[1;33m/\u001b[0m \u001b[0mL_b\u001b[0m \u001b[1;33m-\u001b[0m\u001b[1;36m1\u001b[0m\u001b[1;33m)\u001b[0m\u001b[1;33m\u001b[0m\u001b[1;33m\u001b[0m\u001b[0m\n\u001b[0;32m     52\u001b[0m \u001b[1;33m\u001b[0m\u001b[0m\n",
      "\u001b[1;32m<decorator-gen-293>\u001b[0m in \u001b[0;36mtrophic_incoherence_parameter\u001b[1;34m(G, weight, cannibalism)\u001b[0m\n",
      "\u001b[1;32m~\\anaconda3\\lib\\site-packages\\networkx\\utils\\decorators.py\u001b[0m in \u001b[0;36m_not_implemented_for\u001b[1;34m(not_implement_for_func, *args, **kwargs)\u001b[0m\n\u001b[0;32m     76\u001b[0m             \u001b[1;32mraise\u001b[0m \u001b[0mnx\u001b[0m\u001b[1;33m.\u001b[0m\u001b[0mNetworkXNotImplemented\u001b[0m\u001b[1;33m(\u001b[0m\u001b[0mmsg\u001b[0m\u001b[1;33m)\u001b[0m\u001b[1;33m\u001b[0m\u001b[1;33m\u001b[0m\u001b[0m\n\u001b[0;32m     77\u001b[0m         \u001b[1;32melse\u001b[0m\u001b[1;33m:\u001b[0m\u001b[1;33m\u001b[0m\u001b[1;33m\u001b[0m\u001b[0m\n\u001b[1;32m---> 78\u001b[1;33m             \u001b[1;32mreturn\u001b[0m \u001b[0mnot_implement_for_func\u001b[0m\u001b[1;33m(\u001b[0m\u001b[1;33m*\u001b[0m\u001b[0margs\u001b[0m\u001b[1;33m,\u001b[0m \u001b[1;33m**\u001b[0m\u001b[0mkwargs\u001b[0m\u001b[1;33m)\u001b[0m\u001b[1;33m\u001b[0m\u001b[1;33m\u001b[0m\u001b[0m\n\u001b[0m\u001b[0;32m     79\u001b[0m \u001b[1;33m\u001b[0m\u001b[0m\n\u001b[0;32m     80\u001b[0m     \u001b[1;32mreturn\u001b[0m \u001b[0m_not_implemented_for\u001b[0m\u001b[1;33m\u001b[0m\u001b[1;33m\u001b[0m\u001b[0m\n",
      "\u001b[1;32m~\\anaconda3\\lib\\site-packages\\networkx\\algorithms\\centrality\\trophic.py\u001b[0m in \u001b[0;36mtrophic_incoherence_parameter\u001b[1;34m(G, weight, cannibalism)\u001b[0m\n\u001b[0;32m    165\u001b[0m             \u001b[1;31m# Avoid copy otherwise\u001b[0m\u001b[1;33m\u001b[0m\u001b[1;33m\u001b[0m\u001b[1;33m\u001b[0m\u001b[0m\n\u001b[0;32m    166\u001b[0m             \u001b[0mG_2\u001b[0m \u001b[1;33m=\u001b[0m \u001b[0mG\u001b[0m\u001b[1;33m\u001b[0m\u001b[1;33m\u001b[0m\u001b[0m\n\u001b[1;32m--> 167\u001b[1;33m         \u001b[0mdiffs\u001b[0m \u001b[1;33m=\u001b[0m \u001b[0mtrophic_differences\u001b[0m\u001b[1;33m(\u001b[0m\u001b[0mG_2\u001b[0m\u001b[1;33m,\u001b[0m \u001b[0mweight\u001b[0m\u001b[1;33m=\u001b[0m\u001b[0mweight\u001b[0m\u001b[1;33m)\u001b[0m\u001b[1;33m\u001b[0m\u001b[1;33m\u001b[0m\u001b[0m\n\u001b[0m\u001b[0;32m    168\u001b[0m     \u001b[1;32mreturn\u001b[0m \u001b[0mnp\u001b[0m\u001b[1;33m.\u001b[0m\u001b[0mstd\u001b[0m\u001b[1;33m(\u001b[0m\u001b[0mlist\u001b[0m\u001b[1;33m(\u001b[0m\u001b[0mdiffs\u001b[0m\u001b[1;33m.\u001b[0m\u001b[0mvalues\u001b[0m\u001b[1;33m(\u001b[0m\u001b[1;33m)\u001b[0m\u001b[1;33m)\u001b[0m\u001b[1;33m)\u001b[0m\u001b[1;33m\u001b[0m\u001b[1;33m\u001b[0m\u001b[0m\n",
      "\u001b[1;32m<decorator-gen-291>\u001b[0m in \u001b[0;36mtrophic_differences\u001b[1;34m(G, weight)\u001b[0m\n",
      "\u001b[1;32m~\\anaconda3\\lib\\site-packages\\networkx\\utils\\decorators.py\u001b[0m in \u001b[0;36m_not_implemented_for\u001b[1;34m(not_implement_for_func, *args, **kwargs)\u001b[0m\n\u001b[0;32m     76\u001b[0m             \u001b[1;32mraise\u001b[0m \u001b[0mnx\u001b[0m\u001b[1;33m.\u001b[0m\u001b[0mNetworkXNotImplemented\u001b[0m\u001b[1;33m(\u001b[0m\u001b[0mmsg\u001b[0m\u001b[1;33m)\u001b[0m\u001b[1;33m\u001b[0m\u001b[1;33m\u001b[0m\u001b[0m\n\u001b[0;32m     77\u001b[0m         \u001b[1;32melse\u001b[0m\u001b[1;33m:\u001b[0m\u001b[1;33m\u001b[0m\u001b[1;33m\u001b[0m\u001b[0m\n\u001b[1;32m---> 78\u001b[1;33m             \u001b[1;32mreturn\u001b[0m \u001b[0mnot_implement_for_func\u001b[0m\u001b[1;33m(\u001b[0m\u001b[1;33m*\u001b[0m\u001b[0margs\u001b[0m\u001b[1;33m,\u001b[0m \u001b[1;33m**\u001b[0m\u001b[0mkwargs\u001b[0m\u001b[1;33m)\u001b[0m\u001b[1;33m\u001b[0m\u001b[1;33m\u001b[0m\u001b[0m\n\u001b[0m\u001b[0;32m     79\u001b[0m \u001b[1;33m\u001b[0m\u001b[0m\n\u001b[0;32m     80\u001b[0m     \u001b[1;32mreturn\u001b[0m \u001b[0m_not_implemented_for\u001b[0m\u001b[1;33m\u001b[0m\u001b[1;33m\u001b[0m\u001b[0m\n",
      "\u001b[1;32m~\\anaconda3\\lib\\site-packages\\networkx\\algorithms\\centrality\\trophic.py\u001b[0m in \u001b[0;36mtrophic_differences\u001b[1;34m(G, weight)\u001b[0m\n\u001b[0;32m    112\u001b[0m         \u001b[0mMunoz\u001b[0m \u001b[1;33m(\u001b[0m\u001b[1;36m2014\u001b[0m\u001b[1;33m)\u001b[0m \u001b[0mPNAS\u001b[0m \u001b[1;34m\"Trophic coherence determines food-web stability\"\u001b[0m\u001b[1;33m\u001b[0m\u001b[1;33m\u001b[0m\u001b[0m\n\u001b[0;32m    113\u001b[0m     \"\"\"\n\u001b[1;32m--> 114\u001b[1;33m     \u001b[0mlevels\u001b[0m \u001b[1;33m=\u001b[0m \u001b[0mtrophic_levels\u001b[0m\u001b[1;33m(\u001b[0m\u001b[0mG\u001b[0m\u001b[1;33m,\u001b[0m \u001b[0mweight\u001b[0m\u001b[1;33m=\u001b[0m\u001b[0mweight\u001b[0m\u001b[1;33m)\u001b[0m\u001b[1;33m\u001b[0m\u001b[1;33m\u001b[0m\u001b[0m\n\u001b[0m\u001b[0;32m    115\u001b[0m     \u001b[0mdiffs\u001b[0m \u001b[1;33m=\u001b[0m \u001b[1;33m{\u001b[0m\u001b[1;33m}\u001b[0m\u001b[1;33m\u001b[0m\u001b[1;33m\u001b[0m\u001b[0m\n\u001b[0;32m    116\u001b[0m     \u001b[1;32mfor\u001b[0m \u001b[0mu\u001b[0m\u001b[1;33m,\u001b[0m \u001b[0mv\u001b[0m \u001b[1;32min\u001b[0m \u001b[0mG\u001b[0m\u001b[1;33m.\u001b[0m\u001b[0medges\u001b[0m\u001b[1;33m:\u001b[0m\u001b[1;33m\u001b[0m\u001b[1;33m\u001b[0m\u001b[0m\n",
      "\u001b[1;32m<decorator-gen-289>\u001b[0m in \u001b[0;36mtrophic_levels\u001b[1;34m(G, weight)\u001b[0m\n",
      "\u001b[1;32m~\\anaconda3\\lib\\site-packages\\networkx\\utils\\decorators.py\u001b[0m in \u001b[0;36m_not_implemented_for\u001b[1;34m(not_implement_for_func, *args, **kwargs)\u001b[0m\n\u001b[0;32m     76\u001b[0m             \u001b[1;32mraise\u001b[0m \u001b[0mnx\u001b[0m\u001b[1;33m.\u001b[0m\u001b[0mNetworkXNotImplemented\u001b[0m\u001b[1;33m(\u001b[0m\u001b[0mmsg\u001b[0m\u001b[1;33m)\u001b[0m\u001b[1;33m\u001b[0m\u001b[1;33m\u001b[0m\u001b[0m\n\u001b[0;32m     77\u001b[0m         \u001b[1;32melse\u001b[0m\u001b[1;33m:\u001b[0m\u001b[1;33m\u001b[0m\u001b[1;33m\u001b[0m\u001b[0m\n\u001b[1;32m---> 78\u001b[1;33m             \u001b[1;32mreturn\u001b[0m \u001b[0mnot_implement_for_func\u001b[0m\u001b[1;33m(\u001b[0m\u001b[1;33m*\u001b[0m\u001b[0margs\u001b[0m\u001b[1;33m,\u001b[0m \u001b[1;33m**\u001b[0m\u001b[0mkwargs\u001b[0m\u001b[1;33m)\u001b[0m\u001b[1;33m\u001b[0m\u001b[1;33m\u001b[0m\u001b[0m\n\u001b[0m\u001b[0;32m     79\u001b[0m \u001b[1;33m\u001b[0m\u001b[0m\n\u001b[0;32m     80\u001b[0m     \u001b[1;32mreturn\u001b[0m \u001b[0m_not_implemented_for\u001b[0m\u001b[1;33m\u001b[0m\u001b[1;33m\u001b[0m\u001b[0m\n",
      "\u001b[1;32m~\\anaconda3\\lib\\site-packages\\networkx\\algorithms\\centrality\\trophic.py\u001b[0m in \u001b[0;36mtrophic_levels\u001b[1;34m(G, weight)\u001b[0m\n\u001b[0;32m     59\u001b[0m     \u001b[0mi\u001b[0m \u001b[1;33m=\u001b[0m \u001b[0mnp\u001b[0m\u001b[1;33m.\u001b[0m\u001b[0meye\u001b[0m\u001b[1;33m(\u001b[0m\u001b[0mnn\u001b[0m\u001b[1;33m)\u001b[0m\u001b[1;33m\u001b[0m\u001b[1;33m\u001b[0m\u001b[0m\n\u001b[0;32m     60\u001b[0m     \u001b[1;32mtry\u001b[0m\u001b[1;33m:\u001b[0m\u001b[1;33m\u001b[0m\u001b[1;33m\u001b[0m\u001b[0m\n\u001b[1;32m---> 61\u001b[1;33m         \u001b[0mn\u001b[0m \u001b[1;33m=\u001b[0m \u001b[0mnp\u001b[0m\u001b[1;33m.\u001b[0m\u001b[0mlinalg\u001b[0m\u001b[1;33m.\u001b[0m\u001b[0minv\u001b[0m\u001b[1;33m(\u001b[0m\u001b[0mi\u001b[0m \u001b[1;33m-\u001b[0m \u001b[0mp\u001b[0m\u001b[1;33m)\u001b[0m\u001b[1;33m\u001b[0m\u001b[1;33m\u001b[0m\u001b[0m\n\u001b[0m\u001b[0;32m     62\u001b[0m     \u001b[1;32mexcept\u001b[0m \u001b[0mnp\u001b[0m\u001b[1;33m.\u001b[0m\u001b[0mlinalg\u001b[0m\u001b[1;33m.\u001b[0m\u001b[0mLinAlgError\u001b[0m \u001b[1;32mas\u001b[0m \u001b[0merr\u001b[0m\u001b[1;33m:\u001b[0m\u001b[1;33m\u001b[0m\u001b[1;33m\u001b[0m\u001b[0m\n\u001b[0;32m     63\u001b[0m         \u001b[1;31m# LinAlgError is raised when there is a non-basal node\u001b[0m\u001b[1;33m\u001b[0m\u001b[1;33m\u001b[0m\u001b[1;33m\u001b[0m\u001b[0m\n",
      "\u001b[1;32m<__array_function__ internals>\u001b[0m in \u001b[0;36minv\u001b[1;34m(*args, **kwargs)\u001b[0m\n",
      "\u001b[1;32m~\\anaconda3\\lib\\site-packages\\numpy\\linalg\\linalg.py\u001b[0m in \u001b[0;36minv\u001b[1;34m(a)\u001b[0m\n\u001b[0;32m    544\u001b[0m     \u001b[0msignature\u001b[0m \u001b[1;33m=\u001b[0m \u001b[1;34m'D->D'\u001b[0m \u001b[1;32mif\u001b[0m \u001b[0misComplexType\u001b[0m\u001b[1;33m(\u001b[0m\u001b[0mt\u001b[0m\u001b[1;33m)\u001b[0m \u001b[1;32melse\u001b[0m \u001b[1;34m'd->d'\u001b[0m\u001b[1;33m\u001b[0m\u001b[1;33m\u001b[0m\u001b[0m\n\u001b[0;32m    545\u001b[0m     \u001b[0mextobj\u001b[0m \u001b[1;33m=\u001b[0m \u001b[0mget_linalg_error_extobj\u001b[0m\u001b[1;33m(\u001b[0m\u001b[0m_raise_linalgerror_singular\u001b[0m\u001b[1;33m)\u001b[0m\u001b[1;33m\u001b[0m\u001b[1;33m\u001b[0m\u001b[0m\n\u001b[1;32m--> 546\u001b[1;33m     \u001b[0mainv\u001b[0m \u001b[1;33m=\u001b[0m \u001b[0m_umath_linalg\u001b[0m\u001b[1;33m.\u001b[0m\u001b[0minv\u001b[0m\u001b[1;33m(\u001b[0m\u001b[0ma\u001b[0m\u001b[1;33m,\u001b[0m \u001b[0msignature\u001b[0m\u001b[1;33m=\u001b[0m\u001b[0msignature\u001b[0m\u001b[1;33m,\u001b[0m \u001b[0mextobj\u001b[0m\u001b[1;33m=\u001b[0m\u001b[0mextobj\u001b[0m\u001b[1;33m)\u001b[0m\u001b[1;33m\u001b[0m\u001b[1;33m\u001b[0m\u001b[0m\n\u001b[0m\u001b[0;32m    547\u001b[0m     \u001b[1;32mreturn\u001b[0m \u001b[0mwrap\u001b[0m\u001b[1;33m(\u001b[0m\u001b[0mainv\u001b[0m\u001b[1;33m.\u001b[0m\u001b[0mastype\u001b[0m\u001b[1;33m(\u001b[0m\u001b[0mresult_t\u001b[0m\u001b[1;33m,\u001b[0m \u001b[0mcopy\u001b[0m\u001b[1;33m=\u001b[0m\u001b[1;32mFalse\u001b[0m\u001b[1;33m)\u001b[0m\u001b[1;33m)\u001b[0m\u001b[1;33m\u001b[0m\u001b[1;33m\u001b[0m\u001b[0m\n\u001b[0;32m    548\u001b[0m \u001b[1;33m\u001b[0m\u001b[0m\n",
      "\u001b[1;31mKeyboardInterrupt\u001b[0m: "
     ]
    }
   ],
   "source": [
    "G_p2p = nx.read_edgelist(\"p2p-Gnutella08.txt\",create_using=nx.DiGraph(), nodetype = int)\n",
    "N_p2p, B_p2p, k_p2p, q_p2p, q_p2p, s_st_p2p, a_at_p2p, tauu_p2p, lambda_i_p2p= get_main_properties(G_p2p)"
   ]
  },
  {
   "cell_type": "code",
   "execution_count": 50,
   "id": "deluxe-growth",
   "metadata": {},
   "outputs": [],
   "source": [
    "G_paj = nx.read_pajek('world_trade.paj')"
   ]
  },
  {
   "cell_type": "code",
   "execution_count": 52,
   "id": "olive-sapphire",
   "metadata": {},
   "outputs": [
    {
     "name": "stdout",
     "output_type": "stream",
     "text": [
      "Number of nodes N: 89\n",
      "Number of edges L: 1012\n",
      "Number of basal nodes B: 3\n",
      "Number of basal edges L_B: 12\n",
      "Average in degree:  11.3708\n",
      "\n"
     ]
    },
    {
     "ename": "ValueError",
     "evalue": "too many values to unpack (expected 2)",
     "output_type": "error",
     "traceback": [
      "\u001b[1;31m---------------------------------------------------------------------------\u001b[0m",
      "\u001b[1;31mValueError\u001b[0m                                Traceback (most recent call last)",
      "\u001b[1;32m<ipython-input-52-2e38d26dea09>\u001b[0m in \u001b[0;36m<module>\u001b[1;34m\u001b[0m\n\u001b[1;32m----> 1\u001b[1;33m \u001b[0mget_main_properties\u001b[0m\u001b[1;33m(\u001b[0m\u001b[0mG_paj\u001b[0m\u001b[1;33m)\u001b[0m\u001b[1;33m\u001b[0m\u001b[1;33m\u001b[0m\u001b[0m\n\u001b[0m",
      "\u001b[1;32m<ipython-input-6-a5c06e023350>\u001b[0m in \u001b[0;36mget_main_properties\u001b[1;34m(G)\u001b[0m\n\u001b[0;32m     48\u001b[0m \u001b[1;33m\u001b[0m\u001b[0m\n\u001b[0;32m     49\u001b[0m     \u001b[1;31m#trophic incoherence parameter\u001b[0m\u001b[1;33m\u001b[0m\u001b[1;33m\u001b[0m\u001b[1;33m\u001b[0m\u001b[0m\n\u001b[1;32m---> 50\u001b[1;33m     \u001b[0mq\u001b[0m \u001b[1;33m=\u001b[0m \u001b[0mnx\u001b[0m\u001b[1;33m.\u001b[0m\u001b[0mtrophic_incoherence_parameter\u001b[0m\u001b[1;33m(\u001b[0m\u001b[0mG\u001b[0m\u001b[1;33m)\u001b[0m\u001b[1;33m\u001b[0m\u001b[1;33m\u001b[0m\u001b[0m\n\u001b[0m\u001b[0;32m     51\u001b[0m     \u001b[0mq_tilde\u001b[0m \u001b[1;33m=\u001b[0m \u001b[0mnp\u001b[0m\u001b[1;33m.\u001b[0m\u001b[0msqrt\u001b[0m\u001b[1;33m(\u001b[0m \u001b[0mL\u001b[0m \u001b[1;33m/\u001b[0m \u001b[0mL_b\u001b[0m \u001b[1;33m-\u001b[0m\u001b[1;36m1\u001b[0m\u001b[1;33m)\u001b[0m\u001b[1;33m\u001b[0m\u001b[1;33m\u001b[0m\u001b[0m\n\u001b[0;32m     52\u001b[0m \u001b[1;33m\u001b[0m\u001b[0m\n",
      "\u001b[1;32m<decorator-gen-293>\u001b[0m in \u001b[0;36mtrophic_incoherence_parameter\u001b[1;34m(G, weight, cannibalism)\u001b[0m\n",
      "\u001b[1;32m~\\anaconda3\\lib\\site-packages\\networkx\\utils\\decorators.py\u001b[0m in \u001b[0;36m_not_implemented_for\u001b[1;34m(not_implement_for_func, *args, **kwargs)\u001b[0m\n\u001b[0;32m     76\u001b[0m             \u001b[1;32mraise\u001b[0m \u001b[0mnx\u001b[0m\u001b[1;33m.\u001b[0m\u001b[0mNetworkXNotImplemented\u001b[0m\u001b[1;33m(\u001b[0m\u001b[0mmsg\u001b[0m\u001b[1;33m)\u001b[0m\u001b[1;33m\u001b[0m\u001b[1;33m\u001b[0m\u001b[0m\n\u001b[0;32m     77\u001b[0m         \u001b[1;32melse\u001b[0m\u001b[1;33m:\u001b[0m\u001b[1;33m\u001b[0m\u001b[1;33m\u001b[0m\u001b[0m\n\u001b[1;32m---> 78\u001b[1;33m             \u001b[1;32mreturn\u001b[0m \u001b[0mnot_implement_for_func\u001b[0m\u001b[1;33m(\u001b[0m\u001b[1;33m*\u001b[0m\u001b[0margs\u001b[0m\u001b[1;33m,\u001b[0m \u001b[1;33m**\u001b[0m\u001b[0mkwargs\u001b[0m\u001b[1;33m)\u001b[0m\u001b[1;33m\u001b[0m\u001b[1;33m\u001b[0m\u001b[0m\n\u001b[0m\u001b[0;32m     79\u001b[0m \u001b[1;33m\u001b[0m\u001b[0m\n\u001b[0;32m     80\u001b[0m     \u001b[1;32mreturn\u001b[0m \u001b[0m_not_implemented_for\u001b[0m\u001b[1;33m\u001b[0m\u001b[1;33m\u001b[0m\u001b[0m\n",
      "\u001b[1;32m~\\anaconda3\\lib\\site-packages\\networkx\\algorithms\\centrality\\trophic.py\u001b[0m in \u001b[0;36mtrophic_incoherence_parameter\u001b[1;34m(G, weight, cannibalism)\u001b[0m\n\u001b[0;32m    165\u001b[0m             \u001b[1;31m# Avoid copy otherwise\u001b[0m\u001b[1;33m\u001b[0m\u001b[1;33m\u001b[0m\u001b[1;33m\u001b[0m\u001b[0m\n\u001b[0;32m    166\u001b[0m             \u001b[0mG_2\u001b[0m \u001b[1;33m=\u001b[0m \u001b[0mG\u001b[0m\u001b[1;33m\u001b[0m\u001b[1;33m\u001b[0m\u001b[0m\n\u001b[1;32m--> 167\u001b[1;33m         \u001b[0mdiffs\u001b[0m \u001b[1;33m=\u001b[0m \u001b[0mtrophic_differences\u001b[0m\u001b[1;33m(\u001b[0m\u001b[0mG_2\u001b[0m\u001b[1;33m,\u001b[0m \u001b[0mweight\u001b[0m\u001b[1;33m=\u001b[0m\u001b[0mweight\u001b[0m\u001b[1;33m)\u001b[0m\u001b[1;33m\u001b[0m\u001b[1;33m\u001b[0m\u001b[0m\n\u001b[0m\u001b[0;32m    168\u001b[0m     \u001b[1;32mreturn\u001b[0m \u001b[0mnp\u001b[0m\u001b[1;33m.\u001b[0m\u001b[0mstd\u001b[0m\u001b[1;33m(\u001b[0m\u001b[0mlist\u001b[0m\u001b[1;33m(\u001b[0m\u001b[0mdiffs\u001b[0m\u001b[1;33m.\u001b[0m\u001b[0mvalues\u001b[0m\u001b[1;33m(\u001b[0m\u001b[1;33m)\u001b[0m\u001b[1;33m)\u001b[0m\u001b[1;33m)\u001b[0m\u001b[1;33m\u001b[0m\u001b[1;33m\u001b[0m\u001b[0m\n",
      "\u001b[1;32m<decorator-gen-291>\u001b[0m in \u001b[0;36mtrophic_differences\u001b[1;34m(G, weight)\u001b[0m\n",
      "\u001b[1;32m~\\anaconda3\\lib\\site-packages\\networkx\\utils\\decorators.py\u001b[0m in \u001b[0;36m_not_implemented_for\u001b[1;34m(not_implement_for_func, *args, **kwargs)\u001b[0m\n\u001b[0;32m     76\u001b[0m             \u001b[1;32mraise\u001b[0m \u001b[0mnx\u001b[0m\u001b[1;33m.\u001b[0m\u001b[0mNetworkXNotImplemented\u001b[0m\u001b[1;33m(\u001b[0m\u001b[0mmsg\u001b[0m\u001b[1;33m)\u001b[0m\u001b[1;33m\u001b[0m\u001b[1;33m\u001b[0m\u001b[0m\n\u001b[0;32m     77\u001b[0m         \u001b[1;32melse\u001b[0m\u001b[1;33m:\u001b[0m\u001b[1;33m\u001b[0m\u001b[1;33m\u001b[0m\u001b[0m\n\u001b[1;32m---> 78\u001b[1;33m             \u001b[1;32mreturn\u001b[0m \u001b[0mnot_implement_for_func\u001b[0m\u001b[1;33m(\u001b[0m\u001b[1;33m*\u001b[0m\u001b[0margs\u001b[0m\u001b[1;33m,\u001b[0m \u001b[1;33m**\u001b[0m\u001b[0mkwargs\u001b[0m\u001b[1;33m)\u001b[0m\u001b[1;33m\u001b[0m\u001b[1;33m\u001b[0m\u001b[0m\n\u001b[0m\u001b[0;32m     79\u001b[0m \u001b[1;33m\u001b[0m\u001b[0m\n\u001b[0;32m     80\u001b[0m     \u001b[1;32mreturn\u001b[0m \u001b[0m_not_implemented_for\u001b[0m\u001b[1;33m\u001b[0m\u001b[1;33m\u001b[0m\u001b[0m\n",
      "\u001b[1;32m~\\anaconda3\\lib\\site-packages\\networkx\\algorithms\\centrality\\trophic.py\u001b[0m in \u001b[0;36mtrophic_differences\u001b[1;34m(G, weight)\u001b[0m\n\u001b[0;32m    114\u001b[0m     \u001b[0mlevels\u001b[0m \u001b[1;33m=\u001b[0m \u001b[0mtrophic_levels\u001b[0m\u001b[1;33m(\u001b[0m\u001b[0mG\u001b[0m\u001b[1;33m,\u001b[0m \u001b[0mweight\u001b[0m\u001b[1;33m=\u001b[0m\u001b[0mweight\u001b[0m\u001b[1;33m)\u001b[0m\u001b[1;33m\u001b[0m\u001b[1;33m\u001b[0m\u001b[0m\n\u001b[0;32m    115\u001b[0m     \u001b[0mdiffs\u001b[0m \u001b[1;33m=\u001b[0m \u001b[1;33m{\u001b[0m\u001b[1;33m}\u001b[0m\u001b[1;33m\u001b[0m\u001b[1;33m\u001b[0m\u001b[0m\n\u001b[1;32m--> 116\u001b[1;33m     \u001b[1;32mfor\u001b[0m \u001b[0mu\u001b[0m\u001b[1;33m,\u001b[0m \u001b[0mv\u001b[0m \u001b[1;32min\u001b[0m \u001b[0mG\u001b[0m\u001b[1;33m.\u001b[0m\u001b[0medges\u001b[0m\u001b[1;33m:\u001b[0m\u001b[1;33m\u001b[0m\u001b[1;33m\u001b[0m\u001b[0m\n\u001b[0m\u001b[0;32m    117\u001b[0m         \u001b[0mdiffs\u001b[0m\u001b[1;33m[\u001b[0m\u001b[1;33m(\u001b[0m\u001b[0mu\u001b[0m\u001b[1;33m,\u001b[0m \u001b[0mv\u001b[0m\u001b[1;33m)\u001b[0m\u001b[1;33m]\u001b[0m \u001b[1;33m=\u001b[0m \u001b[0mlevels\u001b[0m\u001b[1;33m[\u001b[0m\u001b[0mv\u001b[0m\u001b[1;33m]\u001b[0m \u001b[1;33m-\u001b[0m \u001b[0mlevels\u001b[0m\u001b[1;33m[\u001b[0m\u001b[0mu\u001b[0m\u001b[1;33m]\u001b[0m\u001b[1;33m\u001b[0m\u001b[1;33m\u001b[0m\u001b[0m\n\u001b[0;32m    118\u001b[0m     \u001b[1;32mreturn\u001b[0m \u001b[0mdiffs\u001b[0m\u001b[1;33m\u001b[0m\u001b[1;33m\u001b[0m\u001b[0m\n",
      "\u001b[1;31mValueError\u001b[0m: too many values to unpack (expected 2)"
     ]
    }
   ],
   "source": [
    "get_main_properties(G_paj)"
   ]
  },
  {
   "cell_type": "code",
   "execution_count": null,
   "id": "light-rachel",
   "metadata": {},
   "outputs": [],
   "source": []
  }
 ],
 "metadata": {
  "kernelspec": {
   "display_name": "Python 3",
   "language": "python",
   "name": "python3"
  },
  "language_info": {
   "codemirror_mode": {
    "name": "ipython",
    "version": 3
   },
   "file_extension": ".py",
   "mimetype": "text/x-python",
   "name": "python",
   "nbconvert_exporter": "python",
   "pygments_lexer": "ipython3",
   "version": "3.7.9"
  }
 },
 "nbformat": 4,
 "nbformat_minor": 5
}
